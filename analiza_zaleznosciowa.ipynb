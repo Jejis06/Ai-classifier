{
  "cells": [
    {
      "cell_type": "markdown",
      "metadata": {
        "id": "view-in-github",
        "colab_type": "text"
      },
      "source": [
        "<a href=\"https://colab.research.google.com/github/Jejis06/Ai-classifier/blob/master/analiza_zaleznosciowa.ipynb\" target=\"_parent\"><img src=\"https://colab.research.google.com/assets/colab-badge.svg\" alt=\"Open In Colab\"/></a>"
      ]
    },
    {
      "cell_type": "markdown",
      "metadata": {
        "id": "4gVAMABTmuJu"
      },
      "source": [
        "# Kod startowy"
      ]
    },
    {
      "cell_type": "code",
      "execution_count": null,
      "metadata": {
        "id": "MwQJ-dwhmuJu"
      },
      "outputs": [],
      "source": [
        "ROOT_MODEL_PATH = 'root_model.pth'\n",
        "DISTANCE_MODEL_PATH = 'distance_model.pth'"
      ]
    },
    {
      "cell_type": "code",
      "source": [
        "!git clone https://github.com/OlimpiadaAI/I-OlimpiadaAI oai\n",
        "!mv oai/first_stage/dependency_parsing/* .\n",
        "!pip install svgling\n",
        "!pip install sacremoses"
      ],
      "metadata": {
        "id": "-eK4IqYHm8fx",
        "outputId": "530b29e9-c1a6-40d5-dcfb-42b363b68e59",
        "colab": {
          "base_uri": "https://localhost:8080/"
        }
      },
      "execution_count": null,
      "outputs": [
        {
          "output_type": "stream",
          "name": "stdout",
          "text": [
            "fatal: destination path 'oai' already exists and is not an empty directory.\n",
            "mv: cannot stat 'oai/first_stage/dependency_parsing/*': No such file or directory\n",
            "Requirement already satisfied: svgling in /usr/local/lib/python3.10/dist-packages (0.5.0)\n",
            "Requirement already satisfied: svgwrite in /usr/local/lib/python3.10/dist-packages (from svgling) (1.4.3)\n",
            "Requirement already satisfied: sacremoses in /usr/local/lib/python3.10/dist-packages (0.1.1)\n",
            "Requirement already satisfied: regex in /usr/local/lib/python3.10/dist-packages (from sacremoses) (2024.11.6)\n",
            "Requirement already satisfied: click in /usr/local/lib/python3.10/dist-packages (from sacremoses) (8.1.7)\n",
            "Requirement already satisfied: joblib in /usr/local/lib/python3.10/dist-packages (from sacremoses) (1.4.2)\n",
            "Requirement already satisfied: tqdm in /usr/local/lib/python3.10/dist-packages (from sacremoses) (4.67.1)\n"
          ]
        }
      ]
    },
    {
      "cell_type": "code",
      "execution_count": null,
      "metadata": {
        "id": "yLvvb5VmmuJv"
      },
      "outputs": [],
      "source": [
        "from typing import List\n",
        "\n",
        "import itertools\n",
        "import matplotlib.pyplot as plt\n",
        "import numpy as np\n",
        "import seaborn as sns\n",
        "import torch\n",
        "import torch.nn as nn\n",
        "import torch.optim as optim\n",
        "\n",
        "from collections import defaultdict\n",
        "from IPython.display import display\n",
        "from pprint import pprint\n",
        "from torch.utils.data import Dataset, DataLoader\n",
        "from tqdm import tqdm, trange\n",
        "from transformers import (AutoModel, AutoTokenizer, PreTrainedModel,\n",
        "                          PreTrainedTokenizer)\n",
        "from utils import (ListDataset, ParsedSentence, Sentence, merge_subword_tokens,\n",
        "                   read_conll, uuas_score)"
      ]
    },
    {
      "cell_type": "code",
      "execution_count": null,
      "metadata": {
        "id": "Q5LbwRjjmuJv",
        "outputId": "9d78def6-129e-473b-fb8a-599f87c64f31",
        "colab": {
          "base_uri": "https://localhost:8080/",
          "height": 385,
          "referenced_widgets": [
            "28eccd954165456c8c70f45d98293192",
            "dff727b8ea2443e898dfaf4fb2746d4d",
            "06450e52fc9b406387fc017f192885ad",
            "c5883795614b471b8e2a12acc2e89c99",
            "c23c6cb346d24263a3dda5d6c0a8c913",
            "23fd8d6be06b42bbbc8642f42115483e",
            "e006628ddf024c9abd6b315d0487a077",
            "195bd2e476d742748287e166c1cb55ed",
            "d9d470668d554b85bf79ff0e132be640",
            "792c3a2b7e7f42bdb0905be6052fc946",
            "f180202eb4e14e85a61117ebdfd74d33",
            "2d266782c30a484f9e21c4ee8291e8a1",
            "5db47fe9dc01407980ba79482dc8b86e",
            "946de3a3a9614370b78ac8d8b56396c6",
            "c8bf774a6afd495d972661e393e407b9",
            "391ef9258d274250855b8f423e16d68f",
            "190dafebda1844488008de5b12ac2458",
            "c9f6c2a0a02f48be8f79c570bf6329a8",
            "3470afb3f1a3456b86eaf3cf197a2681",
            "3377d82a42634cd4a51a6515cabe6d10",
            "2fce39415a8f4e5c8cb0ea0033866eaf",
            "c0c1a3a6963742f5995627a8b84b028b",
            "d80f0b53920e40ca86074451357673f2",
            "e78771dcd0ff4f20a97bbe9645388b54",
            "a50db197e1f14f529a99f1dfa22a1d1a",
            "430e6f2cdaba4e4ba76b63b363c07e01",
            "f209419aa0844d1893275300f5b95e47",
            "47e43628a79648edb9fb7b6e272c6a6c",
            "d23cade9a1e44945be767196fe442981",
            "4bcab67ecff94f24a5acad5b021ffb9a",
            "a3efe205aa6043aa834f257187402040",
            "2ec861bc64b54fb0b470bb692aae5e68",
            "8a731b6b35ee4b47904e0bf06c7c5666",
            "8ca4cff3a75a431fab9f8c47f002a4d1",
            "3e7231ecf0484938ad09d4589dd5c880",
            "d6e3c4cfdf71424e86df01d92f3a8c93",
            "3f6a4387c45d4c16b492ba07661d5f01",
            "ae578cb7696b426e84ef5fb76f551f8e",
            "273234ecfd3940768d058a36c19ef022",
            "750cca5c57574a818e2e32e19bfa163f",
            "0b5c13d100b7428390883e771f27522c",
            "2e2eac82be044edfaf91b06f47dacd33",
            "271dfc8d95884a86a0a94d520bf0fdc0",
            "bf70f5f585724b26bf72f578b4c2837a",
            "8cd422a145284e0bac27628ced767285",
            "f7455623f37543798bcdc25b392ed5f9",
            "49df408ffa1f4a3795050ec07a39a298",
            "b3eb03a4cf8e4d4cb11681cf7826f492",
            "45bfd640d3b04851aeea25cf0c9e2f86",
            "60739e2b5ae3478cb690be95cc3606d4",
            "f607c42dc2dc42dbb1664be9b5ff759c",
            "7b0510ad06594ad09145bc00050b8488",
            "71c6ecfb98cf4b2ba3932587fb85e7f4",
            "54a3476595a345bf8e28655b62dce415",
            "ad8ba5e4f2ad4879834c332ebbd13da0",
            "093aa4f84d064917b005307a450763e0",
            "dc66c9ec5fd34b3a920c0b68b5184f7b",
            "1458b52a1d664339b056ec73d1353e6b",
            "f701c46e4db842829f05ef8da0b4fb97",
            "66beb6d1ba99435a945455f56809736e",
            "fb1ad915741c4776b1644e50ae84375c",
            "cf499ac99e8f4da4b12eca074b253cca",
            "0a89c5a996cb4835ad0f009006f16287",
            "b376b0f75b86454aa18699d83d9d615e",
            "82cae00e8ccd47e7b88e28f3474cdfce",
            "a5da9ccb913b497d9fca4647bc0c829a"
          ]
        }
      },
      "outputs": [
        {
          "output_type": "stream",
          "name": "stderr",
          "text": [
            "/usr/local/lib/python3.10/dist-packages/huggingface_hub/utils/_auth.py:94: UserWarning: \n",
            "The secret `HF_TOKEN` does not exist in your Colab secrets.\n",
            "To authenticate with the Hugging Face Hub, create a token in your settings tab (https://huggingface.co/settings/tokens), set it as secret in your Google Colab and restart your session.\n",
            "You will be able to reuse this secret in all of your notebooks.\n",
            "Please note that authentication is recommended but still optional to access public models or datasets.\n",
            "  warnings.warn(\n"
          ]
        },
        {
          "output_type": "display_data",
          "data": {
            "text/plain": [
              "tokenizer_config.json:   0%|          | 0.00/229 [00:00<?, ?B/s]"
            ],
            "application/vnd.jupyter.widget-view+json": {
              "version_major": 2,
              "version_minor": 0,
              "model_id": "28eccd954165456c8c70f45d98293192"
            }
          },
          "metadata": {}
        },
        {
          "output_type": "display_data",
          "data": {
            "text/plain": [
              "config.json:   0%|          | 0.00/472 [00:00<?, ?B/s]"
            ],
            "application/vnd.jupyter.widget-view+json": {
              "version_major": 2,
              "version_minor": 0,
              "model_id": "2d266782c30a484f9e21c4ee8291e8a1"
            }
          },
          "metadata": {}
        },
        {
          "output_type": "display_data",
          "data": {
            "text/plain": [
              "vocab.json:   0%|          | 0.00/907k [00:00<?, ?B/s]"
            ],
            "application/vnd.jupyter.widget-view+json": {
              "version_major": 2,
              "version_minor": 0,
              "model_id": "d80f0b53920e40ca86074451357673f2"
            }
          },
          "metadata": {}
        },
        {
          "output_type": "display_data",
          "data": {
            "text/plain": [
              "merges.txt:   0%|          | 0.00/556k [00:00<?, ?B/s]"
            ],
            "application/vnd.jupyter.widget-view+json": {
              "version_major": 2,
              "version_minor": 0,
              "model_id": "8ca4cff3a75a431fab9f8c47f002a4d1"
            }
          },
          "metadata": {}
        },
        {
          "output_type": "display_data",
          "data": {
            "text/plain": [
              "special_tokens_map.json:   0%|          | 0.00/129 [00:00<?, ?B/s]"
            ],
            "application/vnd.jupyter.widget-view+json": {
              "version_major": 2,
              "version_minor": 0,
              "model_id": "8cd422a145284e0bac27628ced767285"
            }
          },
          "metadata": {}
        },
        {
          "output_type": "display_data",
          "data": {
            "text/plain": [
              "pytorch_model.bin:   0%|          | 0.00/654M [00:00<?, ?B/s]"
            ],
            "application/vnd.jupyter.widget-view+json": {
              "version_major": 2,
              "version_minor": 0,
              "model_id": "093aa4f84d064917b005307a450763e0"
            }
          },
          "metadata": {}
        },
        {
          "output_type": "stream",
          "name": "stderr",
          "text": [
            "Some weights of the model checkpoint at allegro/herbert-base-cased were not used when initializing BertModel: ['cls.predictions.bias', 'cls.predictions.decoder.bias', 'cls.predictions.decoder.weight', 'cls.predictions.transform.LayerNorm.bias', 'cls.predictions.transform.LayerNorm.weight', 'cls.predictions.transform.dense.bias', 'cls.predictions.transform.dense.weight', 'cls.sso.sso_relationship.bias', 'cls.sso.sso_relationship.weight']\n",
            "- This IS expected if you are initializing BertModel from the checkpoint of a model trained on another task or with another architecture (e.g. initializing a BertForSequenceClassification model from a BertForPreTraining model).\n",
            "- This IS NOT expected if you are initializing BertModel from the checkpoint of a model that you expect to be exactly identical (initializing a BertForSequenceClassification model from a BertForSequenceClassification model).\n"
          ]
        }
      ],
      "source": [
        "tokenizer = AutoTokenizer.from_pretrained(\"allegro/herbert-base-cased\")\n",
        "model = AutoModel.from_pretrained(\"allegro/herbert-base-cased\")"
      ]
    },
    {
      "cell_type": "markdown",
      "source": [
        "# Herbert"
      ],
      "metadata": {
        "id": "qsBXAeHXLVHQ"
      }
    },
    {
      "cell_type": "code",
      "source": [
        "sentence = \"Ala ma kota\"\n",
        "tokenized = tokenizer(\n",
        "  sentence,\n",
        "  add_special_tokens=False,\n",
        "  return_offsets_mapping=True\n",
        ")\n",
        "pprint(tokenized)"
      ],
      "metadata": {
        "colab": {
          "base_uri": "https://localhost:8080/"
        },
        "id": "96D8-gX-LVxM",
        "outputId": "120aebf6-0fb3-4041-a78d-7a3692c8198c"
      },
      "execution_count": null,
      "outputs": [
        {
          "output_type": "stream",
          "name": "stdout",
          "text": [
            "{'attention_mask': [1, 1, 1, 1],\n",
            " 'input_ids': [37, 2121, 2185, 24112],\n",
            " 'offset_mapping': [(0, 1), (1, 3), (4, 6), (7, 11)],\n",
            " 'token_type_ids': [0, 0, 0, 0]}\n"
          ]
        }
      ]
    },
    {
      "cell_type": "code",
      "source": [
        "tokenized = tokenizer(\n",
        "  \"Ala ma kota\",\n",
        "  add_special_tokens=True,\n",
        "  return_offsets_mapping=True\n",
        ")\n",
        "pprint(tokenized)"
      ],
      "metadata": {
        "colab": {
          "base_uri": "https://localhost:8080/"
        },
        "id": "sI7S2dNhMCi8",
        "outputId": "1498c574-ec92-4c9e-df2d-2deb776bb9dd"
      },
      "execution_count": null,
      "outputs": [
        {
          "output_type": "stream",
          "name": "stdout",
          "text": [
            "{'attention_mask': [1, 1, 1, 1, 1, 1],\n",
            " 'input_ids': [0, 37, 2121, 2185, 24112, 2],\n",
            " 'offset_mapping': [(0, 0), (0, 1), (1, 3), (4, 6), (7, 11), (0, 0)],\n",
            " 'token_type_ids': [0, 0, 0, 0, 0, 0]}\n"
          ]
        }
      ]
    },
    {
      "cell_type": "code",
      "source": [
        "tokenized = tokenizer(\n",
        "  \"Ala ma kota\",\n",
        "  return_tensors='pt'\n",
        ")\n",
        "model(**tokenized, output_hidden_states=True, return_dict=True)"
      ],
      "metadata": {
        "id": "meUKO4jeL1aQ"
      },
      "execution_count": null,
      "outputs": []
    },
    {
      "cell_type": "markdown",
      "metadata": {
        "id": "mo7SsZ16muJw"
      },
      "source": [
        "# Tokenizacja i ekstracja embeddingów"
      ]
    },
    {
      "cell_type": "code",
      "source": [
        "train_sentences = read_conll('train.conll')  # 1000 zdań\n",
        "val_sentences = read_conll('valid.conll')  # 200 zdań"
      ],
      "metadata": {
        "id": "elg8wz__SVQN"
      },
      "execution_count": null,
      "outputs": []
    },
    {
      "cell_type": "code",
      "source": [
        "# TODO: What does this tree represent?\n",
        "ID = 15\n",
        "print(train_sentences[ID])\n",
        "train_sentences[ID].to_tree()  # wyświetl drzewo jednego zdania"
      ],
      "metadata": {
        "colab": {
          "base_uri": "https://localhost:8080/",
          "height": 254
        },
        "id": "YCQWcEmASbol",
        "outputId": "cca4499e-0fd0-4322-a1d8-20f6b71a8dc5"
      },
      "execution_count": null,
      "outputs": [
        {
          "output_type": "stream",
          "name": "stdout",
          "text": [
            "Pokój , do którego zaprowadzono gości , miał zaokrąglone wszystkie ściany .\n"
          ]
        },
        {
          "output_type": "execute_result",
          "data": {
            "text/plain": [
              "Tree('miał', [Tree('Pokój', [Tree('zaprowadzono', [',', Tree('do', ['którego']), 'gości', ','])]), Tree('ściany', ['zaokrąglone', 'wszystkie']), '.'])"
            ],
            "image/svg+xml": "<svg baseProfile=\"full\" height=\"216px\" preserveAspectRatio=\"xMidYMid meet\" style=\"font-family: times, serif; font-weight: normal; font-style: normal; font-size: 16px\" version=\"1.1\" viewBox=\"0,0,392.0,216.0\" width=\"392px\" xmlns=\"http://www.w3.org/2000/svg\" xmlns:ev=\"http://www.w3.org/2001/xml-events\" xmlns:xlink=\"http://www.w3.org/1999/xlink\"><defs /><svg width=\"100%\" x=\"0\" y=\"0px\"><defs /><text text-anchor=\"middle\" x=\"50%\" y=\"16px\">miał</text></svg><svg width=\"44.898%\" x=\"0%\" y=\"48px\"><defs /><svg width=\"100%\" x=\"0\" y=\"0px\"><defs /><text text-anchor=\"middle\" x=\"50%\" y=\"16px\">Pokój</text></svg><svg width=\"100%\" x=\"0%\" y=\"48px\"><defs /><svg width=\"100%\" x=\"0\" y=\"0px\"><defs /><text text-anchor=\"middle\" x=\"50%\" y=\"16px\">zaprowadzono</text></svg><svg width=\"13.6364%\" x=\"0%\" y=\"48px\"><defs /><svg width=\"100%\" x=\"0\" y=\"0px\"><defs /><text text-anchor=\"middle\" x=\"50%\" y=\"16px\">,</text></svg></svg><line stroke=\"black\" x1=\"50%\" x2=\"6.81818%\" y1=\"20px\" y2=\"48px\" /><svg width=\"40.9091%\" x=\"13.6364%\" y=\"48px\"><defs /><svg width=\"100%\" x=\"0\" y=\"0px\"><defs /><text text-anchor=\"middle\" x=\"50%\" y=\"16px\">do</text></svg><svg width=\"100%\" x=\"0%\" y=\"48px\"><defs /><svg width=\"100%\" x=\"0\" y=\"0px\"><defs /><text text-anchor=\"middle\" x=\"50%\" y=\"16px\">którego</text></svg></svg><line stroke=\"black\" x1=\"50%\" x2=\"50%\" y1=\"20px\" y2=\"48px\" /></svg><line stroke=\"black\" x1=\"50%\" x2=\"34.0909%\" y1=\"20px\" y2=\"48px\" /><svg width=\"31.8182%\" x=\"54.5455%\" y=\"48px\"><defs /><svg width=\"100%\" x=\"0\" y=\"0px\"><defs /><text text-anchor=\"middle\" x=\"50%\" y=\"16px\">gości</text></svg></svg><line stroke=\"black\" x1=\"50%\" x2=\"70.4545%\" y1=\"20px\" y2=\"48px\" /><svg width=\"13.6364%\" x=\"86.3636%\" y=\"48px\"><defs /><svg width=\"100%\" x=\"0\" y=\"0px\"><defs /><text text-anchor=\"middle\" x=\"50%\" y=\"16px\">,</text></svg></svg><line stroke=\"black\" x1=\"50%\" x2=\"93.1818%\" y1=\"20px\" y2=\"48px\" /></svg><line stroke=\"black\" x1=\"50%\" x2=\"50%\" y1=\"20px\" y2=\"48px\" /></svg><line stroke=\"black\" x1=\"50%\" x2=\"22.449%\" y1=\"20px\" y2=\"48px\" /><svg width=\"48.9796%\" x=\"44.898%\" y=\"48px\"><defs /><svg width=\"100%\" x=\"0\" y=\"0px\"><defs /><text text-anchor=\"middle\" x=\"50%\" y=\"16px\">ściany</text></svg><svg width=\"54.1667%\" x=\"0%\" y=\"48px\"><defs /><svg width=\"100%\" x=\"0\" y=\"0px\"><defs /><text text-anchor=\"middle\" x=\"50%\" y=\"16px\">zaokrąglone</text></svg></svg><line stroke=\"black\" x1=\"50%\" x2=\"27.0833%\" y1=\"20px\" y2=\"48px\" /><svg width=\"45.8333%\" x=\"54.1667%\" y=\"48px\"><defs /><svg width=\"100%\" x=\"0\" y=\"0px\"><defs /><text text-anchor=\"middle\" x=\"50%\" y=\"16px\">wszystkie</text></svg></svg><line stroke=\"black\" x1=\"50%\" x2=\"77.0833%\" y1=\"20px\" y2=\"48px\" /></svg><line stroke=\"black\" x1=\"50%\" x2=\"69.3878%\" y1=\"20px\" y2=\"48px\" /><svg width=\"6.12245%\" x=\"93.8776%\" y=\"48px\"><defs /><svg width=\"100%\" x=\"0\" y=\"0px\"><defs /><text text-anchor=\"middle\" x=\"50%\" y=\"16px\">.</text></svg></svg><line stroke=\"black\" x1=\"50%\" x2=\"96.9388%\" y1=\"20px\" y2=\"48px\" /></svg>"
          },
          "metadata": {},
          "execution_count": 55
        }
      ]
    },
    {
      "cell_type": "code",
      "source": [
        "class EmbeddedSentence:\n",
        "  def __init__(self,\n",
        "               parsed_sentence: ParsedSentence,\n",
        "               token_embeddings: List,\n",
        "               token_ranges: List):\n",
        "    self.parsed = parsed_sentence\n",
        "    self.token_embeddings = token_embeddings[1:] # skip first <s>\n",
        "    self._token_ranges = [(b,e) for b, e in token_ranges if b != 0 or e != 0] # skip <s> and padding\n",
        "    self.word_embeddings = []\n",
        "    self._aggregate_word_embeddings()\n",
        "\n",
        "  def _aggregate_word_embeddings(self):\n",
        "    word_embeddings = defaultdict(lambda: torch.zeros(768))\n",
        "    end_of_word = np.cumsum([len(w) + 1 for w in self.parsed.words])\n",
        "    current_word_id = 0\n",
        "    for token_id, (b, e) in enumerate(self._token_ranges):\n",
        "      while b >= end_of_word[current_word_id]:\n",
        "        current_word_id += 1\n",
        "      assert e <= end_of_word[current_word_id]\n",
        "      word_embeddings[current_word_id] += self.token_embeddings[token_id]\n",
        "    for word_id, _ in enumerate(self.parsed.words):\n",
        "      self.word_embeddings.append(word_embeddings[word_id])\n",
        "\n",
        "  def __len__(self):\n",
        "    return len(self.parsed.words)"
      ],
      "metadata": {
        "id": "3F4nI5Hyc9wq"
      },
      "execution_count": null,
      "outputs": []
    },
    {
      "cell_type": "code",
      "source": [
        "def embed(\n",
        "    sentences: List[ParsedSentence],\n",
        "    tokenizer: PreTrainedTokenizer,\n",
        "    model: PreTrainedModel,\n",
        "    layer_id=4,\n",
        "    batch_size = 8,\n",
        "    show_progress_bar = False\n",
        ") -> List[EmbeddedSentence]:\n",
        "    embedded = []\n",
        "    range_fn = trange if show_progress_bar else range\n",
        "    for i in range_fn(0, len(sentences), batch_size):\n",
        "      batch = sentences[i:i+batch_size]\n",
        "      batch_strings = [' '.join(s.words) for s in batch]\n",
        "      # Tokenize\n",
        "      tokens_pt = tokenizer.batch_encode_plus(\n",
        "          batch_strings,\n",
        "          padding=True, return_tensors='pt',\n",
        "          add_special_tokens=True,\n",
        "          return_offsets_mapping=True)\n",
        "      # Get embeddings\n",
        "      with torch.no_grad():\n",
        "        embeddings = model(input_ids=tokens_pt['input_ids'],\n",
        "                           token_type_ids=tokens_pt['token_type_ids'],\n",
        "                           attention_mask=tokens_pt['attention_mask'],\n",
        "                           output_hidden_states=True, return_dict=True)\n",
        "      for id in range(len(batch)):\n",
        "        embedded.append(\n",
        "            EmbeddedSentence(\n",
        "                parsed_sentence=batch[id],\n",
        "                token_embeddings=embeddings['hidden_states'][layer_id][id].squeeze(),\n",
        "                token_ranges=tokens_pt['offset_mapping'][id]\n",
        "            )\n",
        "        )\n",
        "    return embedded"
      ],
      "metadata": {
        "id": "mBW1iJuVf_Wl"
      },
      "execution_count": null,
      "outputs": []
    },
    {
      "cell_type": "code",
      "source": [
        "sentence = \"Ala ma kota a kot ma Alę\"\n",
        "parsed_sentence = ParsedSentence(\n",
        "    words=sentence.split(),\n",
        "    heads=[0] + [1] * (len(sentence.split()) - 1)\n",
        ")"
      ],
      "metadata": {
        "id": "I7NHibmvzt03"
      },
      "execution_count": null,
      "outputs": []
    },
    {
      "cell_type": "code",
      "source": [
        "embedded_sentence = embed(\n",
        "    [parsed_sentence],\n",
        "    tokenizer=tokenizer,\n",
        "    model=model,\n",
        "    layer_id=4\n",
        ")[0]"
      ],
      "metadata": {
        "id": "OW1AGGn5S2G7"
      },
      "execution_count": null,
      "outputs": []
    },
    {
      "cell_type": "code",
      "source": [
        "embedded_sentence.word_embeddings[0].size()"
      ],
      "metadata": {
        "colab": {
          "base_uri": "https://localhost:8080/"
        },
        "id": "t2eUaqHY0MwR",
        "outputId": "d8a57312-6c67-4823-880d-197891628d77"
      },
      "execution_count": null,
      "outputs": [
        {
          "output_type": "execute_result",
          "data": {
            "text/plain": [
              "torch.Size([768])"
            ]
          },
          "metadata": {},
          "execution_count": 104
        }
      ]
    },
    {
      "cell_type": "code",
      "source": [
        "def display_embedding_heatmap(sentence : EmbeddedSentence):\n",
        "    embeddings = sentence.word_embeddings\n",
        "    dot_products = np.zeros((len(embeddings), len(embeddings)))\n",
        "    for i, j in itertools.product(range(len(embeddings)), repeat=2):\n",
        "        dot_products[i, j] = np.dot(embeddings[i], embeddings[j]) / embeddings[i].norm() / embeddings[j].norm()\n",
        "\n",
        "    plt.figure(figsize=(8, 6))\n",
        "    sns.heatmap(dot_products, annot=True, cmap=\"viridis\", fmt=\".2f\")\n",
        "    plt.xticks(\n",
        "        ticks=range(len(sentence.parsed.words)),\n",
        "        labels=sentence.parsed.words)\n",
        "    plt.yticks(\n",
        "        ticks=range(len(sentence.parsed.words)),\n",
        "        labels=sentence.parsed.words)\n",
        "    plt.title(\"Dot Products of Embeddings\")\n",
        "    plt.xlabel(\"Embedding Index\")\n",
        "    plt.ylabel(\"Embedding Index\")\n",
        "    plt.show()\n",
        "\n",
        "display_embedding_heatmap(embedded_sentence)"
      ],
      "metadata": {
        "colab": {
          "base_uri": "https://localhost:8080/",
          "height": 564
        },
        "id": "jrD135Ix0u5_",
        "outputId": "16f6c032-bdd4-4d64-b959-57d4c38d0856"
      },
      "execution_count": null,
      "outputs": [
        {
          "output_type": "display_data",
          "data": {
            "text/plain": [
              "<Figure size 800x600 with 2 Axes>"
            ],
            "image/png": "[encoded data removed]"
          },
          "metadata": {}
        }
      ]
    },
    {
      "cell_type": "code",
      "source": [
        "layer_id = 11\n",
        "embedded_train_sentences = embed(train_sentences,\n",
        "                                 tokenizer=tokenizer,\n",
        "                                 model=model,\n",
        "                                 layer_id=layer_id,\n",
        "                                 batch_size=4,\n",
        "                                 show_progress_bar=True)\n",
        "embedded_val_sentences = embed(val_sentences,\n",
        "                               tokenizer=tokenizer,\n",
        "                               model=model,\n",
        "                               batch_size=4,\n",
        "                               layer_id=layer_id,\n",
        "                               show_progress_bar=True)"
      ],
      "metadata": {
        "colab": {
          "base_uri": "https://localhost:8080/"
        },
        "id": "16O1ka9KhQ1L",
        "outputId": "fb30fc34-820f-4df6-fcf5-44398226114b"
      },
      "execution_count": null,
      "outputs": [
        {
          "output_type": "stream",
          "name": "stderr",
          "text": [
            " 39%|███▉      | 98/250 [01:04<01:47,  1.41it/s]"
          ]
        }
      ]
    },
    {
      "cell_type": "markdown",
      "source": [
        "# Root dataset"
      ],
      "metadata": {
        "id": "0EO-Yjg3gGy7"
      }
    },
    {
      "cell_type": "code",
      "source": [
        "class RootDataset(Dataset):\n",
        "  def __init__(self, embedded_sentences):\n",
        "    self.embedded_sentences = embedded_sentences\n",
        "    self.num_samples_per_sentences = lambda e: len(e)\n",
        "    self.total_num_samples = sum([self.num_samples_per_sentences(e) for e in embedded_sentences])\n",
        "    self.sample_id_to_sentence_id = dict(zip(\n",
        "        range(self.total_num_samples),\n",
        "        itertools.chain(*[\n",
        "            list(enumerate([id] * self.num_samples_per_sentences(e))) for id, e in enumerate(self.embedded_sentences)\n",
        "        ])\n",
        "    ))\n",
        "\n",
        "  def __len__(self):\n",
        "    return self.total_num_samples\n",
        "\n",
        "  def __getitem__(self, sample_id):\n",
        "    word_id, sentence_id = self.sample_id_to_sentence_id[sample_id]\n",
        "    sentence = self.embedded_sentences[sentence_id]\n",
        "    word_embedding = sentence.word_embeddings[word_id]\n",
        "    return word_embedding, word_id == sentence.parsed.root # (embedding, is_root?)"
      ],
      "metadata": {
        "id": "_hZXf_NNqCmY"
      },
      "execution_count": null,
      "outputs": []
    },
    {
      "cell_type": "code",
      "execution_count": null,
      "metadata": {
        "id": "SqimEfn7muJx"
      },
      "outputs": [],
      "source": [
        "def validate_model(*, model, val_dataset):\n",
        "  # TODO: Do we measure what we want?\n",
        "  val_loader = DataLoader(val_dataset, batch_size=32, shuffle=False)\n",
        "  model.eval()\n",
        "  all_outputs = []\n",
        "  all_targets = []\n",
        "  with torch.no_grad():\n",
        "    for batch in val_loader:\n",
        "      inputs, target, *_ = batch\n",
        "      outputs = model(inputs).squeeze()\n",
        "      all_outputs.extend(outputs.numpy().tolist())\n",
        "      all_targets.extend(target.numpy().tolist())\n",
        "  num_correct = np.sum(np.round(all_outputs) == all_targets)\n",
        "  return num_correct / len(all_targets), all_outputs, all_targets"
      ]
    },
    {
      "cell_type": "code",
      "source": [
        "def train_model(*, model,\n",
        "                train_dataset,\n",
        "                val_dataset,\n",
        "                learning_rate,\n",
        "                loss_fn,\n",
        "                num_epochs,\n",
        "                batch_size=32,\n",
        "                validate_fn=validate_model):\n",
        "    train_loader = DataLoader(train_dataset, batch_size=batch_size, shuffle=True)\n",
        "    optimizer = optim.Adam(model.parameters(), lr=learning_rate)\n",
        "\n",
        "    # Training loop\n",
        "    for epoch in range(num_epochs):\n",
        "        model.train()\n",
        "        epoch_loss = 0.0\n",
        "\n",
        "        for batch in tqdm(train_loader):\n",
        "            inputs, target, *_ = batch\n",
        "\n",
        "            # Forward pass\n",
        "            outputs = model(inputs).squeeze()\n",
        "            loss = loss_fn(outputs, target.float())\n",
        "\n",
        "            # Backward pass\n",
        "            optimizer.zero_grad()\n",
        "            loss.backward()\n",
        "            optimizer.step()\n",
        "\n",
        "            epoch_loss += loss.item()\n",
        "\n",
        "        avg_loss = epoch_loss / len(train_loader)\n",
        "        val_score, *_ = validate_fn(model=model, val_dataset=val_dataset)\n",
        "        print(f\"Epoch [{epoch + 1}/{num_epochs}]\",\n",
        "              f\"Training loss: {avg_loss:.4f}\",\n",
        "              f\"Validation score: {val_score:.3f}\")"
      ],
      "metadata": {
        "id": "5XEEBDIwwI5X"
      },
      "execution_count": null,
      "outputs": []
    },
    {
      "cell_type": "markdown",
      "source": [
        "# Root model"
      ],
      "metadata": {
        "id": "-Hkv6pEOTUSv"
      }
    },
    {
      "cell_type": "code",
      "execution_count": null,
      "metadata": {
        "id": "Bh0edfQ4muJw"
      },
      "outputs": [],
      "source": [
        "class RootModel(torch.nn.Module):\n",
        "    def __init__(self, input_dim=768):\n",
        "      # TODO: Add a new hidden layer. Does it improve the validation score?\n",
        "      # If you add more layers, remember to call torch.relu(...) to add non-linearities.\n",
        "      super(RootModel, self).__init__()\n",
        "      self.linear1 = nn.Linear(input_dim, 1)\n",
        "\n",
        "    def forward(self, x):\n",
        "      x = self.linear1(x)\n",
        "      return torch.sigmoid(x)"
      ]
    },
    {
      "cell_type": "code",
      "source": [
        "print(\"Training root model\")\n",
        "# TODO: Play around with the parameters\n",
        "root_model = RootModel(input_dim=768)\n",
        "train_model(\n",
        "    model=root_model,\n",
        "    train_dataset=RootDataset(embedded_train_sentences),\n",
        "    val_dataset=RootDataset(embedded_val_sentences),\n",
        "    loss_fn=nn.BCELoss(),\n",
        "    learning_rate=0.1,\n",
        "    num_epochs=10,\n",
        "    validate_fn=validate_model\n",
        ")"
      ],
      "metadata": {
        "colab": {
          "base_uri": "https://localhost:8080/"
        },
        "id": "5KspbZQQEpWc",
        "outputId": "3040387c-e1e5-4301-f2c4-8d0f534e666d"
      },
      "execution_count": 58,
      "outputs": [
        {
          "output_type": "stream",
          "name": "stdout",
          "text": [
            "Training root model\n"
          ]
        },
        {
          "output_type": "stream",
          "name": "stderr",
          "text": [
            "100%|██████████| 302/302 [00:01<00:00, 250.35it/s]\n"
          ]
        },
        {
          "output_type": "stream",
          "name": "stdout",
          "text": [
            "Epoch [1/10] Training loss: 0.5516 Validation score: 0.949\n"
          ]
        },
        {
          "output_type": "stream",
          "name": "stderr",
          "text": [
            "100%|██████████| 302/302 [00:00<00:00, 370.81it/s]\n"
          ]
        },
        {
          "output_type": "stream",
          "name": "stdout",
          "text": [
            "Epoch [2/10] Training loss: 0.5271 Validation score: 0.941\n"
          ]
        },
        {
          "output_type": "stream",
          "name": "stderr",
          "text": [
            "100%|██████████| 302/302 [00:00<00:00, 582.38it/s]\n"
          ]
        },
        {
          "output_type": "stream",
          "name": "stdout",
          "text": [
            "Epoch [3/10] Training loss: 0.6957 Validation score: 0.957\n"
          ]
        },
        {
          "output_type": "stream",
          "name": "stderr",
          "text": [
            "100%|██████████| 302/302 [00:00<00:00, 428.45it/s]\n"
          ]
        },
        {
          "output_type": "stream",
          "name": "stdout",
          "text": [
            "Epoch [4/10] Training loss: 0.5677 Validation score: 0.962\n"
          ]
        },
        {
          "output_type": "stream",
          "name": "stderr",
          "text": [
            "100%|██████████| 302/302 [00:00<00:00, 431.78it/s]\n"
          ]
        },
        {
          "output_type": "stream",
          "name": "stdout",
          "text": [
            "Epoch [5/10] Training loss: 0.4382 Validation score: 0.962\n"
          ]
        },
        {
          "output_type": "stream",
          "name": "stderr",
          "text": [
            "100%|██████████| 302/302 [00:00<00:00, 555.03it/s]\n"
          ]
        },
        {
          "output_type": "stream",
          "name": "stdout",
          "text": [
            "Epoch [6/10] Training loss: 0.5929 Validation score: 0.928\n"
          ]
        },
        {
          "output_type": "stream",
          "name": "stderr",
          "text": [
            "100%|██████████| 302/302 [00:00<00:00, 528.13it/s]\n"
          ]
        },
        {
          "output_type": "stream",
          "name": "stdout",
          "text": [
            "Epoch [7/10] Training loss: 0.6426 Validation score: 0.955\n"
          ]
        },
        {
          "output_type": "stream",
          "name": "stderr",
          "text": [
            "100%|██████████| 302/302 [00:00<00:00, 510.32it/s]\n"
          ]
        },
        {
          "output_type": "stream",
          "name": "stdout",
          "text": [
            "Epoch [8/10] Training loss: 0.5188 Validation score: 0.958\n"
          ]
        },
        {
          "output_type": "stream",
          "name": "stderr",
          "text": [
            "100%|██████████| 302/302 [00:00<00:00, 478.11it/s]\n"
          ]
        },
        {
          "output_type": "stream",
          "name": "stdout",
          "text": [
            "Epoch [9/10] Training loss: 0.6892 Validation score: 0.960\n"
          ]
        },
        {
          "output_type": "stream",
          "name": "stderr",
          "text": [
            "100%|██████████| 302/302 [00:01<00:00, 290.13it/s]\n"
          ]
        },
        {
          "output_type": "stream",
          "name": "stdout",
          "text": [
            "Epoch [10/10] Training loss: 0.6361 Validation score: 0.957\n"
          ]
        }
      ]
    },
    {
      "cell_type": "code",
      "source": [
        "# zapisz wagi modelu do pliku\n",
        "torch.save(root_model.state_dict(), ROOT_MODEL_PATH)"
      ],
      "metadata": {
        "id": "2wiMBshei1bk"
      },
      "execution_count": 59,
      "outputs": []
    },
    {
      "cell_type": "code",
      "source": [
        "def print_classified_examples(*, model, val_dataset, print_correct, num_examples):\n",
        "  model.eval()\n",
        "  with torch.no_grad():\n",
        "    for sentence in val_dataset.embedded_sentences:\n",
        "      inputs = torch.stack([e for e in sentence.word_embeddings])\n",
        "      outputs = model(inputs).squeeze().numpy()\n",
        "      correct = (np.argmax(outputs) == sentence.parsed.root)\n",
        "      if correct == print_correct:\n",
        "        s = ' '.join(sentence.parsed.words)\n",
        "        root_target = sentence.parsed.words[sentence.parsed.root]\n",
        "        root_prediction = sentence.parsed.words[np.argmax(outputs)]\n",
        "        display_embedding_heatmap(sentence)\n",
        "        print(f\"PRAW: {outputs}\\n|{s} | Correct: {root_target} Prediction: {root_prediction}\\n\\n\")\n",
        "        num_examples -= 1\n",
        "        if num_examples == 0:\n",
        "          return"
      ],
      "metadata": {
        "id": "x3jBgN7jxfzu"
      },
      "execution_count": 62,
      "outputs": []
    },
    {
      "cell_type": "code",
      "source": [
        "print_classified_examples(\n",
        "    model=root_model,\n",
        "    val_dataset=RootDataset(embedded_val_sentences),\n",
        "    print_correct=False,\n",
        "    num_examples=10\n",
        ")"
      ],
      "metadata": {
        "colab": {
          "base_uri": "https://localhost:8080/"
        },
        "id": "EGsW-l6pJcS6",
        "outputId": "33b3f924-aac2-41f9-e5cc-4ee392368463"
      },
      "execution_count": 63,
      "outputs": [
        {
          "output_type": "stream",
          "name": "stdout",
          "text": [
            "PRAW: [0.00000000e+00 1.70151442e-01 1.00000000e+00 1.00000000e+00\n",
            " 2.17712119e-38 1.05862884e-26 3.31312035e-24 7.47868087e-11]\n",
            "|Ty jutro wyjeżdżasz , ja tu zostaję . | Correct: , Prediction: wyjeżdżasz\n",
            "\n",
            "\n",
            "PRAW: [1.4461320e-38 9.5622867e-01 9.8781464e-05 2.1204344e-23 7.7300311e-22]\n",
            "|Stan rannych jest stabilny . | Correct: jest Prediction: rannych\n",
            "\n",
            "\n",
            "PRAW: [1.7267952e-25 1.3481629e-01 5.4570365e-01 1.1131313e-24 1.5607792e-14\n",
            " 1.8495892e-15 1.2185168e-10]\n",
            "|Teraz wystarczy na dwa razy więcej . | Correct: wystarczy Prediction: na\n",
            "\n",
            "\n",
            "PRAW: [5.3624776e-34 1.0024621e-01 1.0000000e+00 0.0000000e+00 0.0000000e+00\n",
            " 1.5447723e-28 0.0000000e+00 0.0000000e+00 1.0000000e+00 0.0000000e+00\n",
            " 0.0000000e+00 2.0490276e-11 0.0000000e+00 0.0000000e+00 0.0000000e+00\n",
            " 0.0000000e+00 0.0000000e+00 1.7244363e-20]\n",
            "|Z lodówki wyjęła niewielki dozownik wypełniony rubinową cieczą i bardzo ostrożnie wcisnęła go do otworu w pudełku . | Correct: i Prediction: wyjęła\n",
            "\n",
            "\n",
            "PRAW: [1.1463007e-14 1.7045556e-01 8.2602242e-27 2.8748990e-25 1.6554273e-22\n",
            " 1.5480202e-16]\n",
            "|Wiem , że tu przyjdziecie . | Correct: Wiem Prediction: ,\n",
            "\n",
            "\n",
            "PRAW: [4.0122827e-19 2.6069516e-01 5.6464033e-10 1.4084783e-23 5.9450452e-38\n",
            " 7.1246851e-38 6.8897753e-15 1.3779733e-15]\n",
            "|- Nie wiem , co się stało . | Correct: wiem Prediction: Nie\n",
            "\n",
            "\n",
            "PRAW: [0.0000000e+00 2.5611609e-01 1.1934765e-11 1.1190184e-18]\n",
            "|JAK SIĘ MIESZKA ? | Correct: MIESZKA Prediction: SIĘ\n",
            "\n",
            "\n",
            "PRAW: [6.1417081e-20 1.2058474e-01 0.0000000e+00 7.7634400e-33 9.3252492e-01\n",
            " 2.6645495e-09 3.4103995e-30 4.8529650e-30 2.0746337e-25 3.0679849e-38\n",
            " 0.0000000e+00 0.0000000e+00 0.0000000e+00 0.0000000e+00 2.4925555e-20]\n",
            "|Każda z tych miejscowości będzie uczestniczyć w programie wraz ze swoim partnerem z Ukrainy . | Correct: uczestniczyć Prediction: będzie\n",
            "\n",
            "\n",
            "PRAW: [2.9509329e-05 6.3938449e-29 4.4644072e-36 3.1199480e-32 9.9996793e-01\n",
            " 3.3276858e-32 1.9980480e-12]\n",
            "|Pojechał za nim ojciec i brat . | Correct: Pojechał Prediction: i\n",
            "\n",
            "\n",
            "PRAW: [5.1096955e-26 3.0297518e-01 4.6573658e-07 7.2888249e-32 1.0781454e-20]\n",
            "|Właściwie , jestem instruktorem . | Correct: jestem Prediction: ,\n",
            "\n",
            "\n"
          ]
        }
      ]
    },
    {
      "cell_type": "markdown",
      "source": [
        "# Distance dataset"
      ],
      "metadata": {
        "id": "77nY32hVgK4M"
      }
    },
    {
      "cell_type": "code",
      "source": [
        "class DistanceDataset(Dataset):\n",
        "  def __init__(self, embedded_sentences):\n",
        "    self.embedded_sentences = embedded_sentences\n",
        "    self.num_samples_per_sentences = lambda s: len(s.parsed.get_sorted_edges()) * 2 # (a, b) and random\n",
        "    self.total_num_samples = sum([self.num_samples_per_sentences(e) for e in embedded_sentences])\n",
        "    self.sample_id_to_sentence_id = dict(zip(\n",
        "        range(self.total_num_samples),\n",
        "        itertools.chain(*[\n",
        "            list([id] * self.num_samples_per_sentences(e)) for id, e in enumerate(self.embedded_sentences)\n",
        "        ])\n",
        "    ))\n",
        "\n",
        "  def __len__(self):\n",
        "    return self.total_num_samples\n",
        "\n",
        "  def __getitem__(self, sample_id):\n",
        "    sentence_id = self.sample_id_to_sentence_id[sample_id]\n",
        "    sentence = self.embedded_sentences[sentence_id]\n",
        "    sentence_edges = sentence.parsed.get_sorted_edges()\n",
        "    num_edges = len(sentence_edges)\n",
        "    if sample_id % 2 == 0:\n",
        "      edge = sentence_edges[np.random.choice(num_edges)]\n",
        "      target = 1\n",
        "    else:\n",
        "      edge = sentence_edges[0]\n",
        "      while edge in sentence.parsed.get_sorted_edges():\n",
        "        edge = tuple(np.random.choice(len(sentence.parsed.words), size=(2,), replace=False))\n",
        "      target = 0\n",
        "    return torch.cat([sentence.word_embeddings[edge[0]],\n",
        "                      sentence.word_embeddings[edge[1]]], dim=-1), target"
      ],
      "metadata": {
        "id": "RfBqRyU7VnNb"
      },
      "execution_count": null,
      "outputs": []
    },
    {
      "cell_type": "code",
      "source": [
        "class DistanceModel(torch.nn.Module):\n",
        "    def __init__(self, input_dim=768):\n",
        "        super(DistanceModel, self).__init__()\n",
        "        self.input_dim = input_dim\n",
        "        self.linear1 = nn.Linear(input_dim, 64)\n",
        "        self.linear2 = nn.Linear(64, 1)\n",
        "\n",
        "    def forward(self, xy):\n",
        "      x = xy[..., :self.input_dim]\n",
        "      y = xy[..., self.input_dim:]\n",
        "      act1 = torch.relu(self.linear1(x - y))\n",
        "      return torch.sigmoid(self.linear2(act1))"
      ],
      "metadata": {
        "id": "FqP03K3ETY0M"
      },
      "execution_count": null,
      "outputs": []
    },
    {
      "cell_type": "code",
      "source": [
        "distance_model = DistanceModel(input_dim=768)\n",
        "train_model(model=distance_model,\n",
        "            train_dataset=DistanceDataset(embedded_train_sentences),\n",
        "            val_dataset=DistanceDataset(embedded_val_sentences),\n",
        "            learning_rate=0.001,\n",
        "            loss_fn=nn.BCELoss(),\n",
        "            num_epochs=3)"
      ],
      "metadata": {
        "id": "lxWyC-J0oTIH",
        "colab": {
          "base_uri": "https://localhost:8080/"
        },
        "outputId": "0b35601a-f149-4fa6-951f-f959acc0a97c"
      },
      "execution_count": null,
      "outputs": [
        {
          "output_type": "stream",
          "name": "stderr",
          "text": [
            "100%|██████████| 542/542 [00:03<00:00, 153.42it/s]\n"
          ]
        },
        {
          "output_type": "stream",
          "name": "stdout",
          "text": [
            "Epoch [1/3] Training loss: 0.4131 Validation score: 0.867\n"
          ]
        },
        {
          "output_type": "stream",
          "name": "stderr",
          "text": [
            "100%|██████████| 542/542 [00:06<00:00, 86.11it/s] \n"
          ]
        },
        {
          "output_type": "stream",
          "name": "stdout",
          "text": [
            "Epoch [2/3] Training loss: 0.2732 Validation score: 0.896\n"
          ]
        },
        {
          "output_type": "stream",
          "name": "stderr",
          "text": [
            "100%|██████████| 542/542 [00:02<00:00, 240.73it/s]\n"
          ]
        },
        {
          "output_type": "stream",
          "name": "stdout",
          "text": [
            "Epoch [3/3] Training loss: 0.2269 Validation score: 0.899\n"
          ]
        }
      ]
    },
    {
      "cell_type": "code",
      "source": [
        "# zapisz wagi modelu do pliku\n",
        "torch.save(distance_model.state_dict(), DISTANCE_MODEL_PATH)"
      ],
      "metadata": {
        "id": "zw5zp7Jii0HG"
      },
      "execution_count": null,
      "outputs": []
    },
    {
      "cell_type": "code",
      "source": [
        "def pick_tree_edges(sentence: EmbeddedSentence, distance_model: DistanceModel):\n",
        "  # TODO: Zwróć listę krawędzi"
      ],
      "metadata": {
        "id": "tu6S2kReECsd"
      },
      "execution_count": null,
      "outputs": []
    },
    {
      "cell_type": "code",
      "source": [
        "SID = 43\n",
        "sentence = embedded_train_sentences[SID]\n",
        "\n",
        "print(\"-\" * 10)\n",
        "print(\"Wytrenowany model:\")\n",
        "print(\"-\" * 10)\n",
        "display(ParsedSentence.from_edges_and_root(\n",
        "    sentence.parsed.words,\n",
        "    edges=pick_tree_edges(sentence, distance_model),\n",
        "    root=sentence.parsed.root).to_tree())\n",
        "print(\"-\" * 10)\n",
        "print(\"Wzorcowe drzewo:\")\n",
        "print(\"-\" * 10)\n",
        "display(sentence.parsed.to_tree())"
      ],
      "metadata": {
        "colab": {
          "base_uri": "https://localhost:8080/",
          "height": 657
        },
        "id": "NHYwsuz_FR7E",
        "outputId": "aca91646-e950-4e04-d3bb-957e6f078eb7"
      },
      "execution_count": null,
      "outputs": [
        {
          "output_type": "stream",
          "name": "stdout",
          "text": [
            "----------\n",
            "Wytrenowany model:\n",
            "----------\n"
          ]
        },
        {
          "output_type": "display_data",
          "data": {
            "text/plain": [
              "Tree('różniła', [Tree('Niedziela', [Tree('na', ['Palmowa']), 'Kociewiu']), 'się', 'zresztą', Tree('od', [Tree('obchodów', [Tree('w', [Tree('częściach', ['innych', 'Polski'])])])]), '.'])"
            ],
            "image/svg+xml": "<svg baseProfile=\"full\" height=\"264px\" preserveAspectRatio=\"xMidYMid meet\" style=\"font-family: times, serif; font-weight: normal; font-style: normal; font-size: 16px\" version=\"1.1\" viewBox=\"0,0,416.0,264.0\" width=\"416px\" xmlns=\"http://www.w3.org/2000/svg\" xmlns:ev=\"http://www.w3.org/2001/xml-events\" xmlns:xlink=\"http://www.w3.org/1999/xlink\"><defs /><svg width=\"100%\" x=\"0\" y=\"0px\"><defs /><text text-anchor=\"middle\" x=\"50%\" y=\"16px\">różniła</text></svg><svg width=\"36.5385%\" x=\"0%\" y=\"48px\"><defs /><svg width=\"100%\" x=\"0\" y=\"0px\"><defs /><text text-anchor=\"middle\" x=\"50%\" y=\"16px\">Niedziela</text></svg><svg width=\"47.3684%\" x=\"0%\" y=\"48px\"><defs /><svg width=\"100%\" x=\"0\" y=\"0px\"><defs /><text text-anchor=\"middle\" x=\"50%\" y=\"16px\">na</text></svg><svg width=\"100%\" x=\"0%\" y=\"48px\"><defs /><svg width=\"100%\" x=\"0\" y=\"0px\"><defs /><text text-anchor=\"middle\" x=\"50%\" y=\"16px\">Palmowa</text></svg></svg><line stroke=\"black\" x1=\"50%\" x2=\"50%\" y1=\"20px\" y2=\"48px\" /></svg><line stroke=\"black\" x1=\"50%\" x2=\"23.6842%\" y1=\"20px\" y2=\"48px\" /><svg width=\"52.6316%\" x=\"47.3684%\" y=\"48px\"><defs /><svg width=\"100%\" x=\"0\" y=\"0px\"><defs /><text text-anchor=\"middle\" x=\"50%\" y=\"16px\">Kociewiu</text></svg></svg><line stroke=\"black\" x1=\"50%\" x2=\"73.6842%\" y1=\"20px\" y2=\"48px\" /></svg><line stroke=\"black\" x1=\"50%\" x2=\"18.2692%\" y1=\"20px\" y2=\"48px\" /><svg width=\"9.61538%\" x=\"36.5385%\" y=\"48px\"><defs /><svg width=\"100%\" x=\"0\" y=\"0px\"><defs /><text text-anchor=\"middle\" x=\"50%\" y=\"16px\">się</text></svg></svg><line stroke=\"black\" x1=\"50%\" x2=\"41.3462%\" y1=\"20px\" y2=\"48px\" /><svg width=\"17.3077%\" x=\"46.1538%\" y=\"48px\"><defs /><svg width=\"100%\" x=\"0\" y=\"0px\"><defs /><text text-anchor=\"middle\" x=\"50%\" y=\"16px\">zresztą</text></svg></svg><line stroke=\"black\" x1=\"50%\" x2=\"54.8077%\" y1=\"20px\" y2=\"48px\" /><svg width=\"30.7692%\" x=\"63.4615%\" y=\"48px\"><defs /><svg width=\"100%\" x=\"0\" y=\"0px\"><defs /><text text-anchor=\"middle\" x=\"50%\" y=\"16px\">od</text></svg><svg width=\"100%\" x=\"0%\" y=\"48px\"><defs /><svg width=\"100%\" x=\"0\" y=\"0px\"><defs /><text text-anchor=\"middle\" x=\"50%\" y=\"16px\">obchodów</text></svg><svg width=\"100%\" x=\"0%\" y=\"48px\"><defs /><svg width=\"100%\" x=\"0\" y=\"0px\"><defs /><text text-anchor=\"middle\" x=\"50%\" y=\"16px\">w</text></svg><svg width=\"100%\" x=\"0%\" y=\"48px\"><defs /><svg width=\"100%\" x=\"0\" y=\"0px\"><defs /><text text-anchor=\"middle\" x=\"50%\" y=\"16px\">częściach</text></svg><svg width=\"50%\" x=\"0%\" y=\"48px\"><defs /><svg width=\"100%\" x=\"0\" y=\"0px\"><defs /><text text-anchor=\"middle\" x=\"50%\" y=\"16px\">innych</text></svg></svg><line stroke=\"black\" x1=\"50%\" x2=\"25%\" y1=\"20px\" y2=\"48px\" /><svg width=\"50%\" x=\"50%\" y=\"48px\"><defs /><svg width=\"100%\" x=\"0\" y=\"0px\"><defs /><text text-anchor=\"middle\" x=\"50%\" y=\"16px\">Polski</text></svg></svg><line stroke=\"black\" x1=\"50%\" x2=\"75%\" y1=\"20px\" y2=\"48px\" /></svg><line stroke=\"black\" x1=\"50%\" x2=\"50%\" y1=\"20px\" y2=\"48px\" /></svg><line stroke=\"black\" x1=\"50%\" x2=\"50%\" y1=\"20px\" y2=\"48px\" /></svg><line stroke=\"black\" x1=\"50%\" x2=\"50%\" y1=\"20px\" y2=\"48px\" /></svg><line stroke=\"black\" x1=\"50%\" x2=\"78.8462%\" y1=\"20px\" y2=\"48px\" /><svg width=\"5.76923%\" x=\"94.2308%\" y=\"48px\"><defs /><svg width=\"100%\" x=\"0\" y=\"0px\"><defs /><text text-anchor=\"middle\" x=\"50%\" y=\"16px\">.</text></svg></svg><line stroke=\"black\" x1=\"50%\" x2=\"97.1154%\" y1=\"20px\" y2=\"48px\" /></svg>"
          },
          "metadata": {}
        },
        {
          "output_type": "stream",
          "name": "stdout",
          "text": [
            "----------\n",
            "Wzorcowe drzewo:\n",
            "----------\n"
          ]
        },
        {
          "output_type": "display_data",
          "data": {
            "text/plain": [
              "Tree('różniła', [Tree('Niedziela', ['Palmowa', Tree('na', ['Kociewiu'])]), 'się', 'zresztą', Tree('od', [Tree('obchodów', [Tree('w', [Tree('częściach', ['innych', 'Polski'])])])]), '.'])"
            ],
            "image/svg+xml": "<svg baseProfile=\"full\" height=\"264px\" preserveAspectRatio=\"xMidYMid meet\" style=\"font-family: times, serif; font-weight: normal; font-style: normal; font-size: 16px\" version=\"1.1\" viewBox=\"0,0,416.0,264.0\" width=\"416px\" xmlns=\"http://www.w3.org/2000/svg\" xmlns:ev=\"http://www.w3.org/2001/xml-events\" xmlns:xlink=\"http://www.w3.org/1999/xlink\"><defs /><svg width=\"100%\" x=\"0\" y=\"0px\"><defs /><text text-anchor=\"middle\" x=\"50%\" y=\"16px\">różniła</text></svg><svg width=\"36.5385%\" x=\"0%\" y=\"48px\"><defs /><svg width=\"100%\" x=\"0\" y=\"0px\"><defs /><text text-anchor=\"middle\" x=\"50%\" y=\"16px\">Niedziela</text></svg><svg width=\"47.3684%\" x=\"0%\" y=\"48px\"><defs /><svg width=\"100%\" x=\"0\" y=\"0px\"><defs /><text text-anchor=\"middle\" x=\"50%\" y=\"16px\">Palmowa</text></svg></svg><line stroke=\"black\" x1=\"50%\" x2=\"23.6842%\" y1=\"20px\" y2=\"48px\" /><svg width=\"52.6316%\" x=\"47.3684%\" y=\"48px\"><defs /><svg width=\"100%\" x=\"0\" y=\"0px\"><defs /><text text-anchor=\"middle\" x=\"50%\" y=\"16px\">na</text></svg><svg width=\"100%\" x=\"0%\" y=\"48px\"><defs /><svg width=\"100%\" x=\"0\" y=\"0px\"><defs /><text text-anchor=\"middle\" x=\"50%\" y=\"16px\">Kociewiu</text></svg></svg><line stroke=\"black\" x1=\"50%\" x2=\"50%\" y1=\"20px\" y2=\"48px\" /></svg><line stroke=\"black\" x1=\"50%\" x2=\"73.6842%\" y1=\"20px\" y2=\"48px\" /></svg><line stroke=\"black\" x1=\"50%\" x2=\"18.2692%\" y1=\"20px\" y2=\"48px\" /><svg width=\"9.61538%\" x=\"36.5385%\" y=\"48px\"><defs /><svg width=\"100%\" x=\"0\" y=\"0px\"><defs /><text text-anchor=\"middle\" x=\"50%\" y=\"16px\">się</text></svg></svg><line stroke=\"black\" x1=\"50%\" x2=\"41.3462%\" y1=\"20px\" y2=\"48px\" /><svg width=\"17.3077%\" x=\"46.1538%\" y=\"48px\"><defs /><svg width=\"100%\" x=\"0\" y=\"0px\"><defs /><text text-anchor=\"middle\" x=\"50%\" y=\"16px\">zresztą</text></svg></svg><line stroke=\"black\" x1=\"50%\" x2=\"54.8077%\" y1=\"20px\" y2=\"48px\" /><svg width=\"30.7692%\" x=\"63.4615%\" y=\"48px\"><defs /><svg width=\"100%\" x=\"0\" y=\"0px\"><defs /><text text-anchor=\"middle\" x=\"50%\" y=\"16px\">od</text></svg><svg width=\"100%\" x=\"0%\" y=\"48px\"><defs /><svg width=\"100%\" x=\"0\" y=\"0px\"><defs /><text text-anchor=\"middle\" x=\"50%\" y=\"16px\">obchodów</text></svg><svg width=\"100%\" x=\"0%\" y=\"48px\"><defs /><svg width=\"100%\" x=\"0\" y=\"0px\"><defs /><text text-anchor=\"middle\" x=\"50%\" y=\"16px\">w</text></svg><svg width=\"100%\" x=\"0%\" y=\"48px\"><defs /><svg width=\"100%\" x=\"0\" y=\"0px\"><defs /><text text-anchor=\"middle\" x=\"50%\" y=\"16px\">częściach</text></svg><svg width=\"50%\" x=\"0%\" y=\"48px\"><defs /><svg width=\"100%\" x=\"0\" y=\"0px\"><defs /><text text-anchor=\"middle\" x=\"50%\" y=\"16px\">innych</text></svg></svg><line stroke=\"black\" x1=\"50%\" x2=\"25%\" y1=\"20px\" y2=\"48px\" /><svg width=\"50%\" x=\"50%\" y=\"48px\"><defs /><svg width=\"100%\" x=\"0\" y=\"0px\"><defs /><text text-anchor=\"middle\" x=\"50%\" y=\"16px\">Polski</text></svg></svg><line stroke=\"black\" x1=\"50%\" x2=\"75%\" y1=\"20px\" y2=\"48px\" /></svg><line stroke=\"black\" x1=\"50%\" x2=\"50%\" y1=\"20px\" y2=\"48px\" /></svg><line stroke=\"black\" x1=\"50%\" x2=\"50%\" y1=\"20px\" y2=\"48px\" /></svg><line stroke=\"black\" x1=\"50%\" x2=\"50%\" y1=\"20px\" y2=\"48px\" /></svg><line stroke=\"black\" x1=\"50%\" x2=\"78.8462%\" y1=\"20px\" y2=\"48px\" /><svg width=\"5.76923%\" x=\"94.2308%\" y=\"48px\"><defs /><svg width=\"100%\" x=\"0\" y=\"0px\"><defs /><text text-anchor=\"middle\" x=\"50%\" y=\"16px\">.</text></svg></svg><line stroke=\"black\" x1=\"50%\" x2=\"97.1154%\" y1=\"20px\" y2=\"48px\" /></svg>"
          },
          "metadata": {}
        }
      ]
    },
    {
      "cell_type": "markdown",
      "metadata": {
        "id": "w1mc01c4muJx"
      },
      "source": [
        "# Ewaluacja\n",
        "Kod bardzo podobny do poniższego będzie służył do ewaluacji rozwiązania na zdaniach testowych. Wywołując poniższe komórki możesz dowiedzieć się ile punktów zdobyłoby twoje rozwiązanie, gdybyśmy ocenili je na danych walidacyjnych. Przed wysłaniem rozwiązania upewnij się, że cały notebook wykonuje się od początku do końca bez błędów i bez ingerencji użytkownika po wykonaniu polecenia `Run All`."
      ]
    },
    {
      "cell_type": "code",
      "execution_count": null,
      "metadata": {
        "id": "Duq78LnJmuJx"
      },
      "outputs": [],
      "source": [
        "def parse_sentence(parsed_sentence: ParsedSentence, distance_model, root_model, tokenizer, model) -> ParsedSentence:\n",
        "    \"\"\"Zbuduj drzewo składniowe dla pojedynczego zdania.\n",
        "\n",
        "    Argumenty:\n",
        "        sent: Zdanie do sparsowania.\n",
        "        distance_model: Wytrenowany model odległości\n",
        "        root_model: Wytrenowany model głębokości\n",
        "        tokenizer: Tokenizator HERBERT\n",
        "        model: Model HERBERT\n",
        "\n",
        "    Zwraca:\n",
        "        ParsedSentence: Zdanie z przewidzianym drzewem składniowym.\n",
        "\n",
        "    \"\"\"\n",
        "\n",
        "    with torch.no_grad():\n",
        "      embedded_sentence = embed([parsed_sentence],  tokenizer=tokenizer, model=model)[0]\n",
        "      root_scores = [float(root_model(e)) for e in embedded_sentence.word_embeddings]\n",
        "      root_word_id = np.argmax(root_scores)\n",
        "      tree_edges = pick_tree_edges(embedded_sentence, distance_model)\n",
        "      return ParsedSentence.from_edges_and_root(\n",
        "          parsed_sentence.words,\n",
        "          edges=tree_edges,\n",
        "          root=root_word_id\n",
        "      )\n",
        "\n"
      ]
    },
    {
      "cell_type": "code",
      "source": [
        "SID = 1\n",
        "sentence = train_sentences[SID]\n",
        "embedded_sentence = parse_sentence(sentence, distance_model, root_model, tokenizer, model)\n",
        "print(\"--\")\n",
        "embedded_sentence.pretty_print()  # Przewidziane drzewo\n",
        "sentence.pretty_print()  # Złote drzewo (ze zbioru danych)"
      ],
      "metadata": {
        "colab": {
          "base_uri": "https://localhost:8080/"
        },
        "id": "dpC2BYpKytze",
        "outputId": "f97a975c-3a37-4379-d52e-843caee02f44"
      },
      "execution_count": null,
      "outputs": [
        {
          "output_type": "stream",
          "name": "stdout",
          "text": [
            "--\n",
            "                                i                          \n",
            "  ______________________________|______________             \n",
            " |               podawane                      |           \n",
            " |        __________|___________               |            \n",
            " |       |         Przy         |            zależy        \n",
            " |       |          |           |          ____|_______     \n",
            " |       |      kredytach       |         |    |       od  \n",
            " |       |          |           |         |    |       |    \n",
            " |       |         dla         jest       |    z     oceny \n",
            " |       |          |           |         |    |       |    \n",
            " .  najczęściej  ludności oprocentowanie nie  góry  klienta\n",
            "\n",
            "                                  i                                      \n",
            "       ___________________________|__________________________             \n",
            "      |         |     Przy                  |              zależy        \n",
            "      |         |      |                    |            ____|_______     \n",
            "      |         |  kredytach             podawane       |            od  \n",
            "      |         |      |           _________|______     |            |    \n",
            "      |         |     dla         |         |      z    |          oceny \n",
            "      |         |      |          |         |      |    |            |    \n",
            "oprocentowanie  .   ludności najczęściej   jest   góry nie        klienta\n",
            "\n"
          ]
        }
      ]
    },
    {
      "cell_type": "code",
      "execution_count": null,
      "metadata": {
        "id": "S3n_eU3PmuJx"
      },
      "outputs": [],
      "source": [
        "def points(root_placement, uuas):\n",
        "    def scale(x, lower=0.5, upper=0.85):\n",
        "        scaled = min(max(x, lower), upper)\n",
        "        return (scaled - lower) / (upper - lower)\n",
        "    return (scale(root_placement) + scale(uuas))\n",
        "\n",
        "def evaluate_model(sentences: List[ParsedSentence], distance_model, depth_model, tokenizer, model):\n",
        "    sum_uuas = 0\n",
        "    root_correct = 0\n",
        "    with torch.no_grad():\n",
        "        for sent in tqdm(sentences):\n",
        "            parsed = parse_sentence(sent, distance_model, depth_model, tokenizer, model)\n",
        "            root_correct += int(parsed.root == sent.root)\n",
        "            sum_uuas += uuas_score(sent, parsed)\n",
        "\n",
        "    root_placement = root_correct / len(sentences)\n",
        "    uuas = sum_uuas / len(sentences)\n",
        "\n",
        "    print(f\"UUAS: {uuas * 100:.3}%\")\n",
        "    print(f\"Root placement: {root_placement * 100:.3}%\")\n",
        "    print(f\"Your score: {points(root_placement, uuas):.1}/2.0\")"
      ]
    },
    {
      "cell_type": "code",
      "execution_count": null,
      "metadata": {
        "id": "RPV6wXzemuJx",
        "colab": {
          "base_uri": "https://localhost:8080/"
        },
        "outputId": "50801f7e-a3e8-46d9-ea99-81bab14e5255"
      },
      "outputs": [
        {
          "output_type": "stream",
          "name": "stderr",
          "text": [
            "<ipython-input-133-d2605052ba34>:3: FutureWarning: You are using `torch.load` with `weights_only=False` (the current default value), which uses the default pickle module implicitly. It is possible to construct malicious pickle data which will execute arbitrary code during unpickling (See https://github.com/pytorch/pytorch/blob/main/SECURITY.md#untrusted-models for more details). In a future release, the default value for `weights_only` will be flipped to `True`. This limits the functions that could be executed during unpickling. Arbitrary objects will no longer be allowed to be loaded via this mode unless they are explicitly allowlisted by the user via `torch.serialization.add_safe_globals`. We recommend you start setting `weights_only=True` for any use case where you don't have full control of the loaded file. Please open an issue on GitHub for any issues related to this experimental feature.\n",
            "  distance_model_loaded.load_state_dict(torch.load(DISTANCE_MODEL_PATH))\n",
            "<ipython-input-133-d2605052ba34>:6: FutureWarning: You are using `torch.load` with `weights_only=False` (the current default value), which uses the default pickle module implicitly. It is possible to construct malicious pickle data which will execute arbitrary code during unpickling (See https://github.com/pytorch/pytorch/blob/main/SECURITY.md#untrusted-models for more details). In a future release, the default value for `weights_only` will be flipped to `True`. This limits the functions that could be executed during unpickling. Arbitrary objects will no longer be allowed to be loaded via this mode unless they are explicitly allowlisted by the user via `torch.serialization.add_safe_globals`. We recommend you start setting `weights_only=True` for any use case where you don't have full control of the loaded file. Please open an issue on GitHub for any issues related to this experimental feature.\n",
            "  root_model_loaded.load_state_dict(torch.load(ROOT_MODEL_PATH))\n",
            "100%|██████████| 200/200 [00:33<00:00,  5.98it/s]"
          ]
        },
        {
          "output_type": "stream",
          "name": "stdout",
          "text": [
            "UUAS: 82.6%\n",
            "Root placement: 84.0%\n",
            "Your score: 2e+00/2.0\n"
          ]
        },
        {
          "output_type": "stream",
          "name": "stderr",
          "text": [
            "\n"
          ]
        }
      ],
      "source": [
        "if not FINAL_EVALUATION_MODE:\n",
        "    distance_model_loaded = DistanceModel()\n",
        "    distance_model_loaded.load_state_dict(torch.load(DISTANCE_MODEL_PATH))\n",
        "\n",
        "    root_model_loaded = RootModel()\n",
        "    root_model_loaded.load_state_dict(torch.load(ROOT_MODEL_PATH))\n",
        "\n",
        "    evaluate_model(val_sentences, distance_model_loaded, root_model_loaded, tokenizer, model)"
      ]
    },
    {
      "cell_type": "markdown",
      "source": [
        "# Appendix"
      ],
      "metadata": {
        "id": "RIcZ3yT6i9_u"
      }
    },
    {
      "cell_type": "code",
      "source": [],
      "metadata": {
        "colab": {
          "base_uri": "https://localhost:8080/"
        },
        "id": "DCy5YVv187ga",
        "outputId": "8280ab28-0b64-4b07-fff8-77bb65cecfee"
      },
      "execution_count": null,
      "outputs": [
        {
          "output_type": "execute_result",
          "data": {
            "text/plain": [
              "{'input_ids': [0, 37, 2121, 2185, 2], 'token_type_ids': [0, 0, 0, 0, 0], 'attention_mask': [1, 1, 1, 1, 1]}"
            ]
          },
          "metadata": {},
          "execution_count": 109
        }
      ]
    },
    {
      "cell_type": "code",
      "source": [
        "tokens = tokenizer(\"Ala ma\", return_tensors='pt')\n",
        "tokens"
      ],
      "metadata": {
        "colab": {
          "base_uri": "https://localhost:8080/"
        },
        "id": "E3Rp1Avs7R24",
        "outputId": "fe0e878f-5b4f-4e9b-82c2-4183b9f02019"
      },
      "execution_count": null,
      "outputs": [
        {
          "output_type": "execute_result",
          "data": {
            "text/plain": [
              "{'input_ids': tensor([[   0,   37, 2121, 2185,    2]]), 'token_type_ids': tensor([[0, 0, 0, 0, 0]]), 'attention_mask': tensor([[1, 1, 1, 1, 1]])}"
            ]
          },
          "metadata": {},
          "execution_count": 112
        }
      ]
    },
    {
      "cell_type": "code",
      "source": [
        "model"
      ],
      "metadata": {
        "colab": {
          "base_uri": "https://localhost:8080/"
        },
        "id": "eaJeFUhQBEVI",
        "outputId": "3739c4fd-77da-496b-fc28-39145894970c"
      },
      "execution_count": null,
      "outputs": [
        {
          "output_type": "execute_result",
          "data": {
            "text/plain": [
              "BertModel(\n",
              "  (embeddings): BertEmbeddings(\n",
              "    (word_embeddings): Embedding(50000, 768, padding_idx=1)\n",
              "    (position_embeddings): Embedding(514, 768)\n",
              "    (token_type_embeddings): Embedding(2, 768)\n",
              "    (LayerNorm): LayerNorm((768,), eps=1e-12, elementwise_affine=True)\n",
              "    (dropout): Dropout(p=0.1, inplace=False)\n",
              "  )\n",
              "  (encoder): BertEncoder(\n",
              "    (layer): ModuleList(\n",
              "      (0-11): 12 x BertLayer(\n",
              "        (attention): BertAttention(\n",
              "          (self): BertSdpaSelfAttention(\n",
              "            (query): Linear(in_features=768, out_features=768, bias=True)\n",
              "            (key): Linear(in_features=768, out_features=768, bias=True)\n",
              "            (value): Linear(in_features=768, out_features=768, bias=True)\n",
              "            (dropout): Dropout(p=0.1, inplace=False)\n",
              "          )\n",
              "          (output): BertSelfOutput(\n",
              "            (dense): Linear(in_features=768, out_features=768, bias=True)\n",
              "            (LayerNorm): LayerNorm((768,), eps=1e-12, elementwise_affine=True)\n",
              "            (dropout): Dropout(p=0.1, inplace=False)\n",
              "          )\n",
              "        )\n",
              "        (intermediate): BertIntermediate(\n",
              "          (dense): Linear(in_features=768, out_features=3072, bias=True)\n",
              "          (intermediate_act_fn): GELUActivation()\n",
              "        )\n",
              "        (output): BertOutput(\n",
              "          (dense): Linear(in_features=3072, out_features=768, bias=True)\n",
              "          (LayerNorm): LayerNorm((768,), eps=1e-12, elementwise_affine=True)\n",
              "          (dropout): Dropout(p=0.1, inplace=False)\n",
              "        )\n",
              "      )\n",
              "    )\n",
              "  )\n",
              "  (pooler): BertPooler(\n",
              "    (dense): Linear(in_features=768, out_features=768, bias=True)\n",
              "    (activation): Tanh()\n",
              "  )\n",
              ")"
            ]
          },
          "metadata": {},
          "execution_count": 119
        }
      ]
    },
    {
      "cell_type": "code",
      "source": [
        "with torch.no_grad():\n",
        "  output = decoder( input_ids=tokens['input_ids'],\n",
        "                      # token_type_ids=tokens['token_type_ids'],\n",
        "                      # attention_mask=tokens['attention_mask'],\n",
        "                      # output_hidden_states=True,\n",
        "                      # return_dict=True\n",
        "                    )\n",
        "type(output)"
      ],
      "metadata": {
        "colab": {
          "base_uri": "https://localhost:8080/"
        },
        "id": "taSaARXp7wVL",
        "outputId": "25c96ff9-4de0-4bd7-9abc-f4d0f6785368"
      },
      "execution_count": null,
      "outputs": [
        {
          "output_type": "execute_result",
          "data": {
            "text/plain": [
              "transformers.modeling_outputs.BaseModelOutputWithPoolingAndCrossAttentions"
            ]
          },
          "metadata": {},
          "execution_count": 132
        }
      ]
    },
    {
      "cell_type": "code",
      "source": [
        "from transformers import AutoConfig\n",
        "\n",
        "config = AutoConfig.from_pretrained(\"allegro/herbert-base-cased\")\n",
        "print(config)"
      ],
      "metadata": {
        "id": "wF4ZL9fRJEwj",
        "outputId": "b333906d-0dce-4cf3-9ff5-6b24602cc9c7",
        "colab": {
          "base_uri": "https://localhost:8080/"
        }
      },
      "execution_count": null,
      "outputs": [
        {
          "output_type": "stream",
          "name": "stdout",
          "text": [
            "BertConfig {\n",
            "  \"_name_or_path\": \"allegro/herbert-base-cased\",\n",
            "  \"architectures\": [\n",
            "    \"BertModel\"\n",
            "  ],\n",
            "  \"attention_probs_dropout_prob\": 0.1,\n",
            "  \"classifier_dropout\": null,\n",
            "  \"hidden_act\": \"gelu\",\n",
            "  \"hidden_dropout_prob\": 0.1,\n",
            "  \"hidden_size\": 768,\n",
            "  \"initializer_range\": 0.02,\n",
            "  \"intermediate_size\": 3072,\n",
            "  \"layer_norm_eps\": 1e-12,\n",
            "  \"max_position_embeddings\": 514,\n",
            "  \"model_type\": \"bert\",\n",
            "  \"num_attention_heads\": 12,\n",
            "  \"num_hidden_layers\": 12,\n",
            "  \"pad_token_id\": 1,\n",
            "  \"position_embedding_type\": \"absolute\",\n",
            "  \"tokenizer_class\": \"HerbertTokenizerFast\",\n",
            "  \"transformers_version\": \"4.47.0\",\n",
            "  \"type_vocab_size\": 2,\n",
            "  \"use_cache\": true,\n",
            "  \"vocab_size\": 50000\n",
            "}\n",
            "\n"
          ]
        }
      ]
    },
    {
      "cell_type": "code",
      "source": [
        "output = model(\n",
        "    **tokenizer.batch_encode_plus(\n",
        "        [\n",
        "            (\n",
        "                \"A potem szedł środkiem drogi w kurzawie, bo zamiatał nogami, ślepy dziad prowadzony przez tłustego kundla na sznurku.\",\n",
        "                \"A potem leciał od lasu chłopak z butelką, ale ten ujrzawszy księdza przy drodze okrążył go z dala i biegł na przełaj pól do karczmy.\"\n",
        "            )\n",
        "        ],\n",
        "        padding=\"longest\",\n",
        "        add_special_tokens=True,\n",
        "        return_tensors=\"pt\",\n",
        "    )\n",
        ")\n",
        "output.keys()"
      ],
      "metadata": {
        "colab": {
          "base_uri": "https://localhost:8080/"
        },
        "id": "3uUGIWrI7SiI",
        "outputId": "73eac96a-3893-49cb-a2a1-6265d3e9b667"
      },
      "execution_count": null,
      "outputs": [
        {
          "output_type": "execute_result",
          "data": {
            "text/plain": [
              "odict_keys(['last_hidden_state', 'pooler_output'])"
            ]
          },
          "metadata": {},
          "execution_count": 136
        }
      ]
    },
    {
      "cell_type": "code",
      "source": [],
      "metadata": {
        "id": "hUx6MYc6HrqU"
      },
      "execution_count": null,
      "outputs": []
    }
  ],
  "metadata": {
    "kernelspec": {
      "display_name": "Python 3",
      "language": "python",
      "name": "python3"
    },
    "language_info": {
      "codemirror_mode": {
        "name": "ipython",
        "version": 3
      },
      "file_extension": ".py",
      "mimetype": "text/x-python",
      "name": "python",
      "nbconvert_exporter": "python",
      "pygments_lexer": "ipython3",
      "version": "3.10.12"
    },
    "colab": {
      "provenance": [],
      "toc_visible": true,
      "include_colab_link": true
    },
    "widgets": {
      "application/vnd.jupyter.widget-state+json": {
        "28eccd954165456c8c70f45d98293192": {
          "model_module": "@jupyter-widgets/controls",
          "model_name": "HBoxModel",
          "model_module_version": "1.5.0",
          "state": {
            "_dom_classes": [],
            "_model_module": "@jupyter-widgets/controls",
            "_model_module_version": "1.5.0",
            "_model_name": "HBoxModel",
            "_view_count": null,
            "_view_module": "@jupyter-widgets/controls",
            "_view_module_version": "1.5.0",
            "_view_name": "HBoxView",
            "box_style": "",
            "children": [
              "IPY_MODEL_dff727b8ea2443e898dfaf4fb2746d4d",
              "IPY_MODEL_06450e52fc9b406387fc017f192885ad",
              "IPY_MODEL_c5883795614b471b8e2a12acc2e89c99"
            ],
            "layout": "IPY_MODEL_c23c6cb346d24263a3dda5d6c0a8c913"
          }
        },
        "dff727b8ea2443e898dfaf4fb2746d4d": {
          "model_module": "@jupyter-widgets/controls",
          "model_name": "HTMLModel",
          "model_module_version": "1.5.0",
          "state": {
            "_dom_classes": [],
            "_model_module": "@jupyter-widgets/controls",
            "_model_module_version": "1.5.0",
            "_model_name": "HTMLModel",
            "_view_count": null,
            "_view_module": "@jupyter-widgets/controls",
            "_view_module_version": "1.5.0",
            "_view_name": "HTMLView",
            "description": "",
            "description_tooltip": null,
            "layout": "IPY_MODEL_23fd8d6be06b42bbbc8642f42115483e",
            "placeholder": "​",
            "style": "IPY_MODEL_e006628ddf024c9abd6b315d0487a077",
            "value": "tokenizer_config.json: 100%"
          }
        },
        "06450e52fc9b406387fc017f192885ad": {
          "model_module": "@jupyter-widgets/controls",
          "model_name": "FloatProgressModel",
          "model_module_version": "1.5.0",
          "state": {
            "_dom_classes": [],
            "_model_module": "@jupyter-widgets/controls",
            "_model_module_version": "1.5.0",
            "_model_name": "FloatProgressModel",
            "_view_count": null,
            "_view_module": "@jupyter-widgets/controls",
            "_view_module_version": "1.5.0",
            "_view_name": "ProgressView",
            "bar_style": "success",
            "description": "",
            "description_tooltip": null,
            "layout": "IPY_MODEL_195bd2e476d742748287e166c1cb55ed",
            "max": 229,
            "min": 0,
            "orientation": "horizontal",
            "style": "IPY_MODEL_d9d470668d554b85bf79ff0e132be640",
            "value": 229
          }
        },
        "c5883795614b471b8e2a12acc2e89c99": {
          "model_module": "@jupyter-widgets/controls",
          "model_name": "HTMLModel",
          "model_module_version": "1.5.0",
          "state": {
            "_dom_classes": [],
            "_model_module": "@jupyter-widgets/controls",
            "_model_module_version": "1.5.0",
            "_model_name": "HTMLModel",
            "_view_count": null,
            "_view_module": "@jupyter-widgets/controls",
            "_view_module_version": "1.5.0",
            "_view_name": "HTMLView",
            "description": "",
            "description_tooltip": null,
            "layout": "IPY_MODEL_792c3a2b7e7f42bdb0905be6052fc946",
            "placeholder": "​",
            "style": "IPY_MODEL_f180202eb4e14e85a61117ebdfd74d33",
            "value": " 229/229 [00:00&lt;00:00, 3.08kB/s]"
          }
        },
        "c23c6cb346d24263a3dda5d6c0a8c913": {
          "model_module": "@jupyter-widgets/base",
          "model_name": "LayoutModel",
          "model_module_version": "1.2.0",
          "state": {
            "_model_module": "@jupyter-widgets/base",
            "_model_module_version": "1.2.0",
            "_model_name": "LayoutModel",
            "_view_count": null,
            "_view_module": "@jupyter-widgets/base",
            "_view_module_version": "1.2.0",
            "_view_name": "LayoutView",
            "align_content": null,
            "align_items": null,
            "align_self": null,
            "border": null,
            "bottom": null,
            "display": null,
            "flex": null,
            "flex_flow": null,
            "grid_area": null,
            "grid_auto_columns": null,
            "grid_auto_flow": null,
            "grid_auto_rows": null,
            "grid_column": null,
            "grid_gap": null,
            "grid_row": null,
            "grid_template_areas": null,
            "grid_template_columns": null,
            "grid_template_rows": null,
            "height": null,
            "justify_content": null,
            "justify_items": null,
            "left": null,
            "margin": null,
            "max_height": null,
            "max_width": null,
            "min_height": null,
            "min_width": null,
            "object_fit": null,
            "object_position": null,
            "order": null,
            "overflow": null,
            "overflow_x": null,
            "overflow_y": null,
            "padding": null,
            "right": null,
            "top": null,
            "visibility": null,
            "width": null
          }
        },
        "23fd8d6be06b42bbbc8642f42115483e": {
          "model_module": "@jupyter-widgets/base",
          "model_name": "LayoutModel",
          "model_module_version": "1.2.0",
          "state": {
            "_model_module": "@jupyter-widgets/base",
            "_model_module_version": "1.2.0",
            "_model_name": "LayoutModel",
            "_view_count": null,
            "_view_module": "@jupyter-widgets/base",
            "_view_module_version": "1.2.0",
            "_view_name": "LayoutView",
            "align_content": null,
            "align_items": null,
            "align_self": null,
            "border": null,
            "bottom": null,
            "display": null,
            "flex": null,
            "flex_flow": null,
            "grid_area": null,
            "grid_auto_columns": null,
            "grid_auto_flow": null,
            "grid_auto_rows": null,
            "grid_column": null,
            "grid_gap": null,
            "grid_row": null,
            "grid_template_areas": null,
            "grid_template_columns": null,
            "grid_template_rows": null,
            "height": null,
            "justify_content": null,
            "justify_items": null,
            "left": null,
            "margin": null,
            "max_height": null,
            "max_width": null,
            "min_height": null,
            "min_width": null,
            "object_fit": null,
            "object_position": null,
            "order": null,
            "overflow": null,
            "overflow_x": null,
            "overflow_y": null,
            "padding": null,
            "right": null,
            "top": null,
            "visibility": null,
            "width": null
          }
        },
        "e006628ddf024c9abd6b315d0487a077": {
          "model_module": "@jupyter-widgets/controls",
          "model_name": "DescriptionStyleModel",
          "model_module_version": "1.5.0",
          "state": {
            "_model_module": "@jupyter-widgets/controls",
            "_model_module_version": "1.5.0",
            "_model_name": "DescriptionStyleModel",
            "_view_count": null,
            "_view_module": "@jupyter-widgets/base",
            "_view_module_version": "1.2.0",
            "_view_name": "StyleView",
            "description_width": ""
          }
        },
        "195bd2e476d742748287e166c1cb55ed": {
          "model_module": "@jupyter-widgets/base",
          "model_name": "LayoutModel",
          "model_module_version": "1.2.0",
          "state": {
            "_model_module": "@jupyter-widgets/base",
            "_model_module_version": "1.2.0",
            "_model_name": "LayoutModel",
            "_view_count": null,
            "_view_module": "@jupyter-widgets/base",
            "_view_module_version": "1.2.0",
            "_view_name": "LayoutView",
            "align_content": null,
            "align_items": null,
            "align_self": null,
            "border": null,
            "bottom": null,
            "display": null,
            "flex": null,
            "flex_flow": null,
            "grid_area": null,
            "grid_auto_columns": null,
            "grid_auto_flow": null,
            "grid_auto_rows": null,
            "grid_column": null,
            "grid_gap": null,
            "grid_row": null,
            "grid_template_areas": null,
            "grid_template_columns": null,
            "grid_template_rows": null,
            "height": null,
            "justify_content": null,
            "justify_items": null,
            "left": null,
            "margin": null,
            "max_height": null,
            "max_width": null,
            "min_height": null,
            "min_width": null,
            "object_fit": null,
            "object_position": null,
            "order": null,
            "overflow": null,
            "overflow_x": null,
            "overflow_y": null,
            "padding": null,
            "right": null,
            "top": null,
            "visibility": null,
            "width": null
          }
        },
        "d9d470668d554b85bf79ff0e132be640": {
          "model_module": "@jupyter-widgets/controls",
          "model_name": "ProgressStyleModel",
          "model_module_version": "1.5.0",
          "state": {
            "_model_module": "@jupyter-widgets/controls",
            "_model_module_version": "1.5.0",
            "_model_name": "ProgressStyleModel",
            "_view_count": null,
            "_view_module": "@jupyter-widgets/base",
            "_view_module_version": "1.2.0",
            "_view_name": "StyleView",
            "bar_color": null,
            "description_width": ""
          }
        },
        "792c3a2b7e7f42bdb0905be6052fc946": {
          "model_module": "@jupyter-widgets/base",
          "model_name": "LayoutModel",
          "model_module_version": "1.2.0",
          "state": {
            "_model_module": "@jupyter-widgets/base",
            "_model_module_version": "1.2.0",
            "_model_name": "LayoutModel",
            "_view_count": null,
            "_view_module": "@jupyter-widgets/base",
            "_view_module_version": "1.2.0",
            "_view_name": "LayoutView",
            "align_content": null,
            "align_items": null,
            "align_self": null,
            "border": null,
            "bottom": null,
            "display": null,
            "flex": null,
            "flex_flow": null,
            "grid_area": null,
            "grid_auto_columns": null,
            "grid_auto_flow": null,
            "grid_auto_rows": null,
            "grid_column": null,
            "grid_gap": null,
            "grid_row": null,
            "grid_template_areas": null,
            "grid_template_columns": null,
            "grid_template_rows": null,
            "height": null,
            "justify_content": null,
            "justify_items": null,
            "left": null,
            "margin": null,
            "max_height": null,
            "max_width": null,
            "min_height": null,
            "min_width": null,
            "object_fit": null,
            "object_position": null,
            "order": null,
            "overflow": null,
            "overflow_x": null,
            "overflow_y": null,
            "padding": null,
            "right": null,
            "top": null,
            "visibility": null,
            "width": null
          }
        },
        "f180202eb4e14e85a61117ebdfd74d33": {
          "model_module": "@jupyter-widgets/controls",
          "model_name": "DescriptionStyleModel",
          "model_module_version": "1.5.0",
          "state": {
            "_model_module": "@jupyter-widgets/controls",
            "_model_module_version": "1.5.0",
            "_model_name": "DescriptionStyleModel",
            "_view_count": null,
            "_view_module": "@jupyter-widgets/base",
            "_view_module_version": "1.2.0",
            "_view_name": "StyleView",
            "description_width": ""
          }
        },
        "2d266782c30a484f9e21c4ee8291e8a1": {
          "model_module": "@jupyter-widgets/controls",
          "model_name": "HBoxModel",
          "model_module_version": "1.5.0",
          "state": {
            "_dom_classes": [],
            "_model_module": "@jupyter-widgets/controls",
            "_model_module_version": "1.5.0",
            "_model_name": "HBoxModel",
            "_view_count": null,
            "_view_module": "@jupyter-widgets/controls",
            "_view_module_version": "1.5.0",
            "_view_name": "HBoxView",
            "box_style": "",
            "children": [
              "IPY_MODEL_5db47fe9dc01407980ba79482dc8b86e",
              "IPY_MODEL_946de3a3a9614370b78ac8d8b56396c6",
              "IPY_MODEL_c8bf774a6afd495d972661e393e407b9"
            ],
            "layout": "IPY_MODEL_391ef9258d274250855b8f423e16d68f"
          }
        },
        "5db47fe9dc01407980ba79482dc8b86e": {
          "model_module": "@jupyter-widgets/controls",
          "model_name": "HTMLModel",
          "model_module_version": "1.5.0",
          "state": {
            "_dom_classes": [],
            "_model_module": "@jupyter-widgets/controls",
            "_model_module_version": "1.5.0",
            "_model_name": "HTMLModel",
            "_view_count": null,
            "_view_module": "@jupyter-widgets/controls",
            "_view_module_version": "1.5.0",
            "_view_name": "HTMLView",
            "description": "",
            "description_tooltip": null,
            "layout": "IPY_MODEL_190dafebda1844488008de5b12ac2458",
            "placeholder": "​",
            "style": "IPY_MODEL_c9f6c2a0a02f48be8f79c570bf6329a8",
            "value": "config.json: 100%"
          }
        },
        "946de3a3a9614370b78ac8d8b56396c6": {
          "model_module": "@jupyter-widgets/controls",
          "model_name": "FloatProgressModel",
          "model_module_version": "1.5.0",
          "state": {
            "_dom_classes": [],
            "_model_module": "@jupyter-widgets/controls",
            "_model_module_version": "1.5.0",
            "_model_name": "FloatProgressModel",
            "_view_count": null,
            "_view_module": "@jupyter-widgets/controls",
            "_view_module_version": "1.5.0",
            "_view_name": "ProgressView",
            "bar_style": "success",
            "description": "",
            "description_tooltip": null,
            "layout": "IPY_MODEL_3470afb3f1a3456b86eaf3cf197a2681",
            "max": 472,
            "min": 0,
            "orientation": "horizontal",
            "style": "IPY_MODEL_3377d82a42634cd4a51a6515cabe6d10",
            "value": 472
          }
        },
        "c8bf774a6afd495d972661e393e407b9": {
          "model_module": "@jupyter-widgets/controls",
          "model_name": "HTMLModel",
          "model_module_version": "1.5.0",
          "state": {
            "_dom_classes": [],
            "_model_module": "@jupyter-widgets/controls",
            "_model_module_version": "1.5.0",
            "_model_name": "HTMLModel",
            "_view_count": null,
            "_view_module": "@jupyter-widgets/controls",
            "_view_module_version": "1.5.0",
            "_view_name": "HTMLView",
            "description": "",
            "description_tooltip": null,
            "layout": "IPY_MODEL_2fce39415a8f4e5c8cb0ea0033866eaf",
            "placeholder": "​",
            "style": "IPY_MODEL_c0c1a3a6963742f5995627a8b84b028b",
            "value": " 472/472 [00:00&lt;00:00, 6.76kB/s]"
          }
        },
        "391ef9258d274250855b8f423e16d68f": {
          "model_module": "@jupyter-widgets/base",
          "model_name": "LayoutModel",
          "model_module_version": "1.2.0",
          "state": {
            "_model_module": "@jupyter-widgets/base",
            "_model_module_version": "1.2.0",
            "_model_name": "LayoutModel",
            "_view_count": null,
            "_view_module": "@jupyter-widgets/base",
            "_view_module_version": "1.2.0",
            "_view_name": "LayoutView",
            "align_content": null,
            "align_items": null,
            "align_self": null,
            "border": null,
            "bottom": null,
            "display": null,
            "flex": null,
            "flex_flow": null,
            "grid_area": null,
            "grid_auto_columns": null,
            "grid_auto_flow": null,
            "grid_auto_rows": null,
            "grid_column": null,
            "grid_gap": null,
            "grid_row": null,
            "grid_template_areas": null,
            "grid_template_columns": null,
            "grid_template_rows": null,
            "height": null,
            "justify_content": null,
            "justify_items": null,
            "left": null,
            "margin": null,
            "max_height": null,
            "max_width": null,
            "min_height": null,
            "min_width": null,
            "object_fit": null,
            "object_position": null,
            "order": null,
            "overflow": null,
            "overflow_x": null,
            "overflow_y": null,
            "padding": null,
            "right": null,
            "top": null,
            "visibility": null,
            "width": null
          }
        },
        "190dafebda1844488008de5b12ac2458": {
          "model_module": "@jupyter-widgets/base",
          "model_name": "LayoutModel",
          "model_module_version": "1.2.0",
          "state": {
            "_model_module": "@jupyter-widgets/base",
            "_model_module_version": "1.2.0",
            "_model_name": "LayoutModel",
            "_view_count": null,
            "_view_module": "@jupyter-widgets/base",
            "_view_module_version": "1.2.0",
            "_view_name": "LayoutView",
            "align_content": null,
            "align_items": null,
            "align_self": null,
            "border": null,
            "bottom": null,
            "display": null,
            "flex": null,
            "flex_flow": null,
            "grid_area": null,
            "grid_auto_columns": null,
            "grid_auto_flow": null,
            "grid_auto_rows": null,
            "grid_column": null,
            "grid_gap": null,
            "grid_row": null,
            "grid_template_areas": null,
            "grid_template_columns": null,
            "grid_template_rows": null,
            "height": null,
            "justify_content": null,
            "justify_items": null,
            "left": null,
            "margin": null,
            "max_height": null,
            "max_width": null,
            "min_height": null,
            "min_width": null,
            "object_fit": null,
            "object_position": null,
            "order": null,
            "overflow": null,
            "overflow_x": null,
            "overflow_y": null,
            "padding": null,
            "right": null,
            "top": null,
            "visibility": null,
            "width": null
          }
        },
        "c9f6c2a0a02f48be8f79c570bf6329a8": {
          "model_module": "@jupyter-widgets/controls",
          "model_name": "DescriptionStyleModel",
          "model_module_version": "1.5.0",
          "state": {
            "_model_module": "@jupyter-widgets/controls",
            "_model_module_version": "1.5.0",
            "_model_name": "DescriptionStyleModel",
            "_view_count": null,
            "_view_module": "@jupyter-widgets/base",
            "_view_module_version": "1.2.0",
            "_view_name": "StyleView",
            "description_width": ""
          }
        },
        "3470afb3f1a3456b86eaf3cf197a2681": {
          "model_module": "@jupyter-widgets/base",
          "model_name": "LayoutModel",
          "model_module_version": "1.2.0",
          "state": {
            "_model_module": "@jupyter-widgets/base",
            "_model_module_version": "1.2.0",
            "_model_name": "LayoutModel",
            "_view_count": null,
            "_view_module": "@jupyter-widgets/base",
            "_view_module_version": "1.2.0",
            "_view_name": "LayoutView",
            "align_content": null,
            "align_items": null,
            "align_self": null,
            "border": null,
            "bottom": null,
            "display": null,
            "flex": null,
            "flex_flow": null,
            "grid_area": null,
            "grid_auto_columns": null,
            "grid_auto_flow": null,
            "grid_auto_rows": null,
            "grid_column": null,
            "grid_gap": null,
            "grid_row": null,
            "grid_template_areas": null,
            "grid_template_columns": null,
            "grid_template_rows": null,
            "height": null,
            "justify_content": null,
            "justify_items": null,
            "left": null,
            "margin": null,
            "max_height": null,
            "max_width": null,
            "min_height": null,
            "min_width": null,
            "object_fit": null,
            "object_position": null,
            "order": null,
            "overflow": null,
            "overflow_x": null,
            "overflow_y": null,
            "padding": null,
            "right": null,
            "top": null,
            "visibility": null,
            "width": null
          }
        },
        "3377d82a42634cd4a51a6515cabe6d10": {
          "model_module": "@jupyter-widgets/controls",
          "model_name": "ProgressStyleModel",
          "model_module_version": "1.5.0",
          "state": {
            "_model_module": "@jupyter-widgets/controls",
            "_model_module_version": "1.5.0",
            "_model_name": "ProgressStyleModel",
            "_view_count": null,
            "_view_module": "@jupyter-widgets/base",
            "_view_module_version": "1.2.0",
            "_view_name": "StyleView",
            "bar_color": null,
            "description_width": ""
          }
        },
        "2fce39415a8f4e5c8cb0ea0033866eaf": {
          "model_module": "@jupyter-widgets/base",
          "model_name": "LayoutModel",
          "model_module_version": "1.2.0",
          "state": {
            "_model_module": "@jupyter-widgets/base",
            "_model_module_version": "1.2.0",
            "_model_name": "LayoutModel",
            "_view_count": null,
            "_view_module": "@jupyter-widgets/base",
            "_view_module_version": "1.2.0",
            "_view_name": "LayoutView",
            "align_content": null,
            "align_items": null,
            "align_self": null,
            "border": null,
            "bottom": null,
            "display": null,
            "flex": null,
            "flex_flow": null,
            "grid_area": null,
            "grid_auto_columns": null,
            "grid_auto_flow": null,
            "grid_auto_rows": null,
            "grid_column": null,
            "grid_gap": null,
            "grid_row": null,
            "grid_template_areas": null,
            "grid_template_columns": null,
            "grid_template_rows": null,
            "height": null,
            "justify_content": null,
            "justify_items": null,
            "left": null,
            "margin": null,
            "max_height": null,
            "max_width": null,
            "min_height": null,
            "min_width": null,
            "object_fit": null,
            "object_position": null,
            "order": null,
            "overflow": null,
            "overflow_x": null,
            "overflow_y": null,
            "padding": null,
            "right": null,
            "top": null,
            "visibility": null,
            "width": null
          }
        },
        "c0c1a3a6963742f5995627a8b84b028b": {
          "model_module": "@jupyter-widgets/controls",
          "model_name": "DescriptionStyleModel",
          "model_module_version": "1.5.0",
          "state": {
            "_model_module": "@jupyter-widgets/controls",
            "_model_module_version": "1.5.0",
            "_model_name": "DescriptionStyleModel",
            "_view_count": null,
            "_view_module": "@jupyter-widgets/base",
            "_view_module_version": "1.2.0",
            "_view_name": "StyleView",
            "description_width": ""
          }
        },
        "d80f0b53920e40ca86074451357673f2": {
          "model_module": "@jupyter-widgets/controls",
          "model_name": "HBoxModel",
          "model_module_version": "1.5.0",
          "state": {
            "_dom_classes": [],
            "_model_module": "@jupyter-widgets/controls",
            "_model_module_version": "1.5.0",
            "_model_name": "HBoxModel",
            "_view_count": null,
            "_view_module": "@jupyter-widgets/controls",
            "_view_module_version": "1.5.0",
            "_view_name": "HBoxView",
            "box_style": "",
            "children": [
              "IPY_MODEL_e78771dcd0ff4f20a97bbe9645388b54",
              "IPY_MODEL_a50db197e1f14f529a99f1dfa22a1d1a",
              "IPY_MODEL_430e6f2cdaba4e4ba76b63b363c07e01"
            ],
            "layout": "IPY_MODEL_f209419aa0844d1893275300f5b95e47"
          }
        },
        "e78771dcd0ff4f20a97bbe9645388b54": {
          "model_module": "@jupyter-widgets/controls",
          "model_name": "HTMLModel",
          "model_module_version": "1.5.0",
          "state": {
            "_dom_classes": [],
            "_model_module": "@jupyter-widgets/controls",
            "_model_module_version": "1.5.0",
            "_model_name": "HTMLModel",
            "_view_count": null,
            "_view_module": "@jupyter-widgets/controls",
            "_view_module_version": "1.5.0",
            "_view_name": "HTMLView",
            "description": "",
            "description_tooltip": null,
            "layout": "IPY_MODEL_47e43628a79648edb9fb7b6e272c6a6c",
            "placeholder": "​",
            "style": "IPY_MODEL_d23cade9a1e44945be767196fe442981",
            "value": "vocab.json: 100%"
          }
        },
        "a50db197e1f14f529a99f1dfa22a1d1a": {
          "model_module": "@jupyter-widgets/controls",
          "model_name": "FloatProgressModel",
          "model_module_version": "1.5.0",
          "state": {
            "_dom_classes": [],
            "_model_module": "@jupyter-widgets/controls",
            "_model_module_version": "1.5.0",
            "_model_name": "FloatProgressModel",
            "_view_count": null,
            "_view_module": "@jupyter-widgets/controls",
            "_view_module_version": "1.5.0",
            "_view_name": "ProgressView",
            "bar_style": "success",
            "description": "",
            "description_tooltip": null,
            "layout": "IPY_MODEL_4bcab67ecff94f24a5acad5b021ffb9a",
            "max": 906984,
            "min": 0,
            "orientation": "horizontal",
            "style": "IPY_MODEL_a3efe205aa6043aa834f257187402040",
            "value": 906984
          }
        },
        "430e6f2cdaba4e4ba76b63b363c07e01": {
          "model_module": "@jupyter-widgets/controls",
          "model_name": "HTMLModel",
          "model_module_version": "1.5.0",
          "state": {
            "_dom_classes": [],
            "_model_module": "@jupyter-widgets/controls",
            "_model_module_version": "1.5.0",
            "_model_name": "HTMLModel",
            "_view_count": null,
            "_view_module": "@jupyter-widgets/controls",
            "_view_module_version": "1.5.0",
            "_view_name": "HTMLView",
            "description": "",
            "description_tooltip": null,
            "layout": "IPY_MODEL_2ec861bc64b54fb0b470bb692aae5e68",
            "placeholder": "​",
            "style": "IPY_MODEL_8a731b6b35ee4b47904e0bf06c7c5666",
            "value": " 907k/907k [00:00&lt;00:00, 3.35MB/s]"
          }
        },
        "f209419aa0844d1893275300f5b95e47": {
          "model_module": "@jupyter-widgets/base",
          "model_name": "LayoutModel",
          "model_module_version": "1.2.0",
          "state": {
            "_model_module": "@jupyter-widgets/base",
            "_model_module_version": "1.2.0",
            "_model_name": "LayoutModel",
            "_view_count": null,
            "_view_module": "@jupyter-widgets/base",
            "_view_module_version": "1.2.0",
            "_view_name": "LayoutView",
            "align_content": null,
            "align_items": null,
            "align_self": null,
            "border": null,
            "bottom": null,
            "display": null,
            "flex": null,
            "flex_flow": null,
            "grid_area": null,
            "grid_auto_columns": null,
            "grid_auto_flow": null,
            "grid_auto_rows": null,
            "grid_column": null,
            "grid_gap": null,
            "grid_row": null,
            "grid_template_areas": null,
            "grid_template_columns": null,
            "grid_template_rows": null,
            "height": null,
            "justify_content": null,
            "justify_items": null,
            "left": null,
            "margin": null,
            "max_height": null,
            "max_width": null,
            "min_height": null,
            "min_width": null,
            "object_fit": null,
            "object_position": null,
            "order": null,
            "overflow": null,
            "overflow_x": null,
            "overflow_y": null,
            "padding": null,
            "right": null,
            "top": null,
            "visibility": null,
            "width": null
          }
        },
        "47e43628a79648edb9fb7b6e272c6a6c": {
          "model_module": "@jupyter-widgets/base",
          "model_name": "LayoutModel",
          "model_module_version": "1.2.0",
          "state": {
            "_model_module": "@jupyter-widgets/base",
            "_model_module_version": "1.2.0",
            "_model_name": "LayoutModel",
            "_view_count": null,
            "_view_module": "@jupyter-widgets/base",
            "_view_module_version": "1.2.0",
            "_view_name": "LayoutView",
            "align_content": null,
            "align_items": null,
            "align_self": null,
            "border": null,
            "bottom": null,
            "display": null,
            "flex": null,
            "flex_flow": null,
            "grid_area": null,
            "grid_auto_columns": null,
            "grid_auto_flow": null,
            "grid_auto_rows": null,
            "grid_column": null,
            "grid_gap": null,
            "grid_row": null,
            "grid_template_areas": null,
            "grid_template_columns": null,
            "grid_template_rows": null,
            "height": null,
            "justify_content": null,
            "justify_items": null,
            "left": null,
            "margin": null,
            "max_height": null,
            "max_width": null,
            "min_height": null,
            "min_width": null,
            "object_fit": null,
            "object_position": null,
            "order": null,
            "overflow": null,
            "overflow_x": null,
            "overflow_y": null,
            "padding": null,
            "right": null,
            "top": null,
            "visibility": null,
            "width": null
          }
        },
        "d23cade9a1e44945be767196fe442981": {
          "model_module": "@jupyter-widgets/controls",
          "model_name": "DescriptionStyleModel",
          "model_module_version": "1.5.0",
          "state": {
            "_model_module": "@jupyter-widgets/controls",
            "_model_module_version": "1.5.0",
            "_model_name": "DescriptionStyleModel",
            "_view_count": null,
            "_view_module": "@jupyter-widgets/base",
            "_view_module_version": "1.2.0",
            "_view_name": "StyleView",
            "description_width": ""
          }
        },
        "4bcab67ecff94f24a5acad5b021ffb9a": {
          "model_module": "@jupyter-widgets/base",
          "model_name": "LayoutModel",
          "model_module_version": "1.2.0",
          "state": {
            "_model_module": "@jupyter-widgets/base",
            "_model_module_version": "1.2.0",
            "_model_name": "LayoutModel",
            "_view_count": null,
            "_view_module": "@jupyter-widgets/base",
            "_view_module_version": "1.2.0",
            "_view_name": "LayoutView",
            "align_content": null,
            "align_items": null,
            "align_self": null,
            "border": null,
            "bottom": null,
            "display": null,
            "flex": null,
            "flex_flow": null,
            "grid_area": null,
            "grid_auto_columns": null,
            "grid_auto_flow": null,
            "grid_auto_rows": null,
            "grid_column": null,
            "grid_gap": null,
            "grid_row": null,
            "grid_template_areas": null,
            "grid_template_columns": null,
            "grid_template_rows": null,
            "height": null,
            "justify_content": null,
            "justify_items": null,
            "left": null,
            "margin": null,
            "max_height": null,
            "max_width": null,
            "min_height": null,
            "min_width": null,
            "object_fit": null,
            "object_position": null,
            "order": null,
            "overflow": null,
            "overflow_x": null,
            "overflow_y": null,
            "padding": null,
            "right": null,
            "top": null,
            "visibility": null,
            "width": null
          }
        },
        "a3efe205aa6043aa834f257187402040": {
          "model_module": "@jupyter-widgets/controls",
          "model_name": "ProgressStyleModel",
          "model_module_version": "1.5.0",
          "state": {
            "_model_module": "@jupyter-widgets/controls",
            "_model_module_version": "1.5.0",
            "_model_name": "ProgressStyleModel",
            "_view_count": null,
            "_view_module": "@jupyter-widgets/base",
            "_view_module_version": "1.2.0",
            "_view_name": "StyleView",
            "bar_color": null,
            "description_width": ""
          }
        },
        "2ec861bc64b54fb0b470bb692aae5e68": {
          "model_module": "@jupyter-widgets/base",
          "model_name": "LayoutModel",
          "model_module_version": "1.2.0",
          "state": {
            "_model_module": "@jupyter-widgets/base",
            "_model_module_version": "1.2.0",
            "_model_name": "LayoutModel",
            "_view_count": null,
            "_view_module": "@jupyter-widgets/base",
            "_view_module_version": "1.2.0",
            "_view_name": "LayoutView",
            "align_content": null,
            "align_items": null,
            "align_self": null,
            "border": null,
            "bottom": null,
            "display": null,
            "flex": null,
            "flex_flow": null,
            "grid_area": null,
            "grid_auto_columns": null,
            "grid_auto_flow": null,
            "grid_auto_rows": null,
            "grid_column": null,
            "grid_gap": null,
            "grid_row": null,
            "grid_template_areas": null,
            "grid_template_columns": null,
            "grid_template_rows": null,
            "height": null,
            "justify_content": null,
            "justify_items": null,
            "left": null,
            "margin": null,
            "max_height": null,
            "max_width": null,
            "min_height": null,
            "min_width": null,
            "object_fit": null,
            "object_position": null,
            "order": null,
            "overflow": null,
            "overflow_x": null,
            "overflow_y": null,
            "padding": null,
            "right": null,
            "top": null,
            "visibility": null,
            "width": null
          }
        },
        "8a731b6b35ee4b47904e0bf06c7c5666": {
          "model_module": "@jupyter-widgets/controls",
          "model_name": "DescriptionStyleModel",
          "model_module_version": "1.5.0",
          "state": {
            "_model_module": "@jupyter-widgets/controls",
            "_model_module_version": "1.5.0",
            "_model_name": "DescriptionStyleModel",
            "_view_count": null,
            "_view_module": "@jupyter-widgets/base",
            "_view_module_version": "1.2.0",
            "_view_name": "StyleView",
            "description_width": ""
          }
        },
        "8ca4cff3a75a431fab9f8c47f002a4d1": {
          "model_module": "@jupyter-widgets/controls",
          "model_name": "HBoxModel",
          "model_module_version": "1.5.0",
          "state": {
            "_dom_classes": [],
            "_model_module": "@jupyter-widgets/controls",
            "_model_module_version": "1.5.0",
            "_model_name": "HBoxModel",
            "_view_count": null,
            "_view_module": "@jupyter-widgets/controls",
            "_view_module_version": "1.5.0",
            "_view_name": "HBoxView",
            "box_style": "",
            "children": [
              "IPY_MODEL_3e7231ecf0484938ad09d4589dd5c880",
              "IPY_MODEL_d6e3c4cfdf71424e86df01d92f3a8c93",
              "IPY_MODEL_3f6a4387c45d4c16b492ba07661d5f01"
            ],
            "layout": "IPY_MODEL_ae578cb7696b426e84ef5fb76f551f8e"
          }
        },
        "3e7231ecf0484938ad09d4589dd5c880": {
          "model_module": "@jupyter-widgets/controls",
          "model_name": "HTMLModel",
          "model_module_version": "1.5.0",
          "state": {
            "_dom_classes": [],
            "_model_module": "@jupyter-widgets/controls",
            "_model_module_version": "1.5.0",
            "_model_name": "HTMLModel",
            "_view_count": null,
            "_view_module": "@jupyter-widgets/controls",
            "_view_module_version": "1.5.0",
            "_view_name": "HTMLView",
            "description": "",
            "description_tooltip": null,
            "layout": "IPY_MODEL_273234ecfd3940768d058a36c19ef022",
            "placeholder": "​",
            "style": "IPY_MODEL_750cca5c57574a818e2e32e19bfa163f",
            "value": "merges.txt: 100%"
          }
        },
        "d6e3c4cfdf71424e86df01d92f3a8c93": {
          "model_module": "@jupyter-widgets/controls",
          "model_name": "FloatProgressModel",
          "model_module_version": "1.5.0",
          "state": {
            "_dom_classes": [],
            "_model_module": "@jupyter-widgets/controls",
            "_model_module_version": "1.5.0",
            "_model_name": "FloatProgressModel",
            "_view_count": null,
            "_view_module": "@jupyter-widgets/controls",
            "_view_module_version": "1.5.0",
            "_view_name": "ProgressView",
            "bar_style": "success",
            "description": "",
            "description_tooltip": null,
            "layout": "IPY_MODEL_0b5c13d100b7428390883e771f27522c",
            "max": 555571,
            "min": 0,
            "orientation": "horizontal",
            "style": "IPY_MODEL_2e2eac82be044edfaf91b06f47dacd33",
            "value": 555571
          }
        },
        "3f6a4387c45d4c16b492ba07661d5f01": {
          "model_module": "@jupyter-widgets/controls",
          "model_name": "HTMLModel",
          "model_module_version": "1.5.0",
          "state": {
            "_dom_classes": [],
            "_model_module": "@jupyter-widgets/controls",
            "_model_module_version": "1.5.0",
            "_model_name": "HTMLModel",
            "_view_count": null,
            "_view_module": "@jupyter-widgets/controls",
            "_view_module_version": "1.5.0",
            "_view_name": "HTMLView",
            "description": "",
            "description_tooltip": null,
            "layout": "IPY_MODEL_271dfc8d95884a86a0a94d520bf0fdc0",
            "placeholder": "​",
            "style": "IPY_MODEL_bf70f5f585724b26bf72f578b4c2837a",
            "value": " 556k/556k [00:00&lt;00:00, 8.89MB/s]"
          }
        },
        "ae578cb7696b426e84ef5fb76f551f8e": {
          "model_module": "@jupyter-widgets/base",
          "model_name": "LayoutModel",
          "model_module_version": "1.2.0",
          "state": {
            "_model_module": "@jupyter-widgets/base",
            "_model_module_version": "1.2.0",
            "_model_name": "LayoutModel",
            "_view_count": null,
            "_view_module": "@jupyter-widgets/base",
            "_view_module_version": "1.2.0",
            "_view_name": "LayoutView",
            "align_content": null,
            "align_items": null,
            "align_self": null,
            "border": null,
            "bottom": null,
            "display": null,
            "flex": null,
            "flex_flow": null,
            "grid_area": null,
            "grid_auto_columns": null,
            "grid_auto_flow": null,
            "grid_auto_rows": null,
            "grid_column": null,
            "grid_gap": null,
            "grid_row": null,
            "grid_template_areas": null,
            "grid_template_columns": null,
            "grid_template_rows": null,
            "height": null,
            "justify_content": null,
            "justify_items": null,
            "left": null,
            "margin": null,
            "max_height": null,
            "max_width": null,
            "min_height": null,
            "min_width": null,
            "object_fit": null,
            "object_position": null,
            "order": null,
            "overflow": null,
            "overflow_x": null,
            "overflow_y": null,
            "padding": null,
            "right": null,
            "top": null,
            "visibility": null,
            "width": null
          }
        },
        "273234ecfd3940768d058a36c19ef022": {
          "model_module": "@jupyter-widgets/base",
          "model_name": "LayoutModel",
          "model_module_version": "1.2.0",
          "state": {
            "_model_module": "@jupyter-widgets/base",
            "_model_module_version": "1.2.0",
            "_model_name": "LayoutModel",
            "_view_count": null,
            "_view_module": "@jupyter-widgets/base",
            "_view_module_version": "1.2.0",
            "_view_name": "LayoutView",
            "align_content": null,
            "align_items": null,
            "align_self": null,
            "border": null,
            "bottom": null,
            "display": null,
            "flex": null,
            "flex_flow": null,
            "grid_area": null,
            "grid_auto_columns": null,
            "grid_auto_flow": null,
            "grid_auto_rows": null,
            "grid_column": null,
            "grid_gap": null,
            "grid_row": null,
            "grid_template_areas": null,
            "grid_template_columns": null,
            "grid_template_rows": null,
            "height": null,
            "justify_content": null,
            "justify_items": null,
            "left": null,
            "margin": null,
            "max_height": null,
            "max_width": null,
            "min_height": null,
            "min_width": null,
            "object_fit": null,
            "object_position": null,
            "order": null,
            "overflow": null,
            "overflow_x": null,
            "overflow_y": null,
            "padding": null,
            "right": null,
            "top": null,
            "visibility": null,
            "width": null
          }
        },
        "750cca5c57574a818e2e32e19bfa163f": {
          "model_module": "@jupyter-widgets/controls",
          "model_name": "DescriptionStyleModel",
          "model_module_version": "1.5.0",
          "state": {
            "_model_module": "@jupyter-widgets/controls",
            "_model_module_version": "1.5.0",
            "_model_name": "DescriptionStyleModel",
            "_view_count": null,
            "_view_module": "@jupyter-widgets/base",
            "_view_module_version": "1.2.0",
            "_view_name": "StyleView",
            "description_width": ""
          }
        },
        "0b5c13d100b7428390883e771f27522c": {
          "model_module": "@jupyter-widgets/base",
          "model_name": "LayoutModel",
          "model_module_version": "1.2.0",
          "state": {
            "_model_module": "@jupyter-widgets/base",
            "_model_module_version": "1.2.0",
            "_model_name": "LayoutModel",
            "_view_count": null,
            "_view_module": "@jupyter-widgets/base",
            "_view_module_version": "1.2.0",
            "_view_name": "LayoutView",
            "align_content": null,
            "align_items": null,
            "align_self": null,
            "border": null,
            "bottom": null,
            "display": null,
            "flex": null,
            "flex_flow": null,
            "grid_area": null,
            "grid_auto_columns": null,
            "grid_auto_flow": null,
            "grid_auto_rows": null,
            "grid_column": null,
            "grid_gap": null,
            "grid_row": null,
            "grid_template_areas": null,
            "grid_template_columns": null,
            "grid_template_rows": null,
            "height": null,
            "justify_content": null,
            "justify_items": null,
            "left": null,
            "margin": null,
            "max_height": null,
            "max_width": null,
            "min_height": null,
            "min_width": null,
            "object_fit": null,
            "object_position": null,
            "order": null,
            "overflow": null,
            "overflow_x": null,
            "overflow_y": null,
            "padding": null,
            "right": null,
            "top": null,
            "visibility": null,
            "width": null
          }
        },
        "2e2eac82be044edfaf91b06f47dacd33": {
          "model_module": "@jupyter-widgets/controls",
          "model_name": "ProgressStyleModel",
          "model_module_version": "1.5.0",
          "state": {
            "_model_module": "@jupyter-widgets/controls",
            "_model_module_version": "1.5.0",
            "_model_name": "ProgressStyleModel",
            "_view_count": null,
            "_view_module": "@jupyter-widgets/base",
            "_view_module_version": "1.2.0",
            "_view_name": "StyleView",
            "bar_color": null,
            "description_width": ""
          }
        },
        "271dfc8d95884a86a0a94d520bf0fdc0": {
          "model_module": "@jupyter-widgets/base",
          "model_name": "LayoutModel",
          "model_module_version": "1.2.0",
          "state": {
            "_model_module": "@jupyter-widgets/base",
            "_model_module_version": "1.2.0",
            "_model_name": "LayoutModel",
            "_view_count": null,
            "_view_module": "@jupyter-widgets/base",
            "_view_module_version": "1.2.0",
            "_view_name": "LayoutView",
            "align_content": null,
            "align_items": null,
            "align_self": null,
            "border": null,
            "bottom": null,
            "display": null,
            "flex": null,
            "flex_flow": null,
            "grid_area": null,
            "grid_auto_columns": null,
            "grid_auto_flow": null,
            "grid_auto_rows": null,
            "grid_column": null,
            "grid_gap": null,
            "grid_row": null,
            "grid_template_areas": null,
            "grid_template_columns": null,
            "grid_template_rows": null,
            "height": null,
            "justify_content": null,
            "justify_items": null,
            "left": null,
            "margin": null,
            "max_height": null,
            "max_width": null,
            "min_height": null,
            "min_width": null,
            "object_fit": null,
            "object_position": null,
            "order": null,
            "overflow": null,
            "overflow_x": null,
            "overflow_y": null,
            "padding": null,
            "right": null,
            "top": null,
            "visibility": null,
            "width": null
          }
        },
        "bf70f5f585724b26bf72f578b4c2837a": {
          "model_module": "@jupyter-widgets/controls",
          "model_name": "DescriptionStyleModel",
          "model_module_version": "1.5.0",
          "state": {
            "_model_module": "@jupyter-widgets/controls",
            "_model_module_version": "1.5.0",
            "_model_name": "DescriptionStyleModel",
            "_view_count": null,
            "_view_module": "@jupyter-widgets/base",
            "_view_module_version": "1.2.0",
            "_view_name": "StyleView",
            "description_width": ""
          }
        },
        "8cd422a145284e0bac27628ced767285": {
          "model_module": "@jupyter-widgets/controls",
          "model_name": "HBoxModel",
          "model_module_version": "1.5.0",
          "state": {
            "_dom_classes": [],
            "_model_module": "@jupyter-widgets/controls",
            "_model_module_version": "1.5.0",
            "_model_name": "HBoxModel",
            "_view_count": null,
            "_view_module": "@jupyter-widgets/controls",
            "_view_module_version": "1.5.0",
            "_view_name": "HBoxView",
            "box_style": "",
            "children": [
              "IPY_MODEL_f7455623f37543798bcdc25b392ed5f9",
              "IPY_MODEL_49df408ffa1f4a3795050ec07a39a298",
              "IPY_MODEL_b3eb03a4cf8e4d4cb11681cf7826f492"
            ],
            "layout": "IPY_MODEL_45bfd640d3b04851aeea25cf0c9e2f86"
          }
        },
        "f7455623f37543798bcdc25b392ed5f9": {
          "model_module": "@jupyter-widgets/controls",
          "model_name": "HTMLModel",
          "model_module_version": "1.5.0",
          "state": {
            "_dom_classes": [],
            "_model_module": "@jupyter-widgets/controls",
            "_model_module_version": "1.5.0",
            "_model_name": "HTMLModel",
            "_view_count": null,
            "_view_module": "@jupyter-widgets/controls",
            "_view_module_version": "1.5.0",
            "_view_name": "HTMLView",
            "description": "",
            "description_tooltip": null,
            "layout": "IPY_MODEL_60739e2b5ae3478cb690be95cc3606d4",
            "placeholder": "​",
            "style": "IPY_MODEL_f607c42dc2dc42dbb1664be9b5ff759c",
            "value": "special_tokens_map.json: 100%"
          }
        },
        "49df408ffa1f4a3795050ec07a39a298": {
          "model_module": "@jupyter-widgets/controls",
          "model_name": "FloatProgressModel",
          "model_module_version": "1.5.0",
          "state": {
            "_dom_classes": [],
            "_model_module": "@jupyter-widgets/controls",
            "_model_module_version": "1.5.0",
            "_model_name": "FloatProgressModel",
            "_view_count": null,
            "_view_module": "@jupyter-widgets/controls",
            "_view_module_version": "1.5.0",
            "_view_name": "ProgressView",
            "bar_style": "success",
            "description": "",
            "description_tooltip": null,
            "layout": "IPY_MODEL_7b0510ad06594ad09145bc00050b8488",
            "max": 129,
            "min": 0,
            "orientation": "horizontal",
            "style": "IPY_MODEL_71c6ecfb98cf4b2ba3932587fb85e7f4",
            "value": 129
          }
        },
        "b3eb03a4cf8e4d4cb11681cf7826f492": {
          "model_module": "@jupyter-widgets/controls",
          "model_name": "HTMLModel",
          "model_module_version": "1.5.0",
          "state": {
            "_dom_classes": [],
            "_model_module": "@jupyter-widgets/controls",
            "_model_module_version": "1.5.0",
            "_model_name": "HTMLModel",
            "_view_count": null,
            "_view_module": "@jupyter-widgets/controls",
            "_view_module_version": "1.5.0",
            "_view_name": "HTMLView",
            "description": "",
            "description_tooltip": null,
            "layout": "IPY_MODEL_54a3476595a345bf8e28655b62dce415",
            "placeholder": "​",
            "style": "IPY_MODEL_ad8ba5e4f2ad4879834c332ebbd13da0",
            "value": " 129/129 [00:00&lt;00:00, 1.74kB/s]"
          }
        },
        "45bfd640d3b04851aeea25cf0c9e2f86": {
          "model_module": "@jupyter-widgets/base",
          "model_name": "LayoutModel",
          "model_module_version": "1.2.0",
          "state": {
            "_model_module": "@jupyter-widgets/base",
            "_model_module_version": "1.2.0",
            "_model_name": "LayoutModel",
            "_view_count": null,
            "_view_module": "@jupyter-widgets/base",
            "_view_module_version": "1.2.0",
            "_view_name": "LayoutView",
            "align_content": null,
            "align_items": null,
            "align_self": null,
            "border": null,
            "bottom": null,
            "display": null,
            "flex": null,
            "flex_flow": null,
            "grid_area": null,
            "grid_auto_columns": null,
            "grid_auto_flow": null,
            "grid_auto_rows": null,
            "grid_column": null,
            "grid_gap": null,
            "grid_row": null,
            "grid_template_areas": null,
            "grid_template_columns": null,
            "grid_template_rows": null,
            "height": null,
            "justify_content": null,
            "justify_items": null,
            "left": null,
            "margin": null,
            "max_height": null,
            "max_width": null,
            "min_height": null,
            "min_width": null,
            "object_fit": null,
            "object_position": null,
            "order": null,
            "overflow": null,
            "overflow_x": null,
            "overflow_y": null,
            "padding": null,
            "right": null,
            "top": null,
            "visibility": null,
            "width": null
          }
        },
        "60739e2b5ae3478cb690be95cc3606d4": {
          "model_module": "@jupyter-widgets/base",
          "model_name": "LayoutModel",
          "model_module_version": "1.2.0",
          "state": {
            "_model_module": "@jupyter-widgets/base",
            "_model_module_version": "1.2.0",
            "_model_name": "LayoutModel",
            "_view_count": null,
            "_view_module": "@jupyter-widgets/base",
            "_view_module_version": "1.2.0",
            "_view_name": "LayoutView",
            "align_content": null,
            "align_items": null,
            "align_self": null,
            "border": null,
            "bottom": null,
            "display": null,
            "flex": null,
            "flex_flow": null,
            "grid_area": null,
            "grid_auto_columns": null,
            "grid_auto_flow": null,
            "grid_auto_rows": null,
            "grid_column": null,
            "grid_gap": null,
            "grid_row": null,
            "grid_template_areas": null,
            "grid_template_columns": null,
            "grid_template_rows": null,
            "height": null,
            "justify_content": null,
            "justify_items": null,
            "left": null,
            "margin": null,
            "max_height": null,
            "max_width": null,
            "min_height": null,
            "min_width": null,
            "object_fit": null,
            "object_position": null,
            "order": null,
            "overflow": null,
            "overflow_x": null,
            "overflow_y": null,
            "padding": null,
            "right": null,
            "top": null,
            "visibility": null,
            "width": null
          }
        },
        "f607c42dc2dc42dbb1664be9b5ff759c": {
          "model_module": "@jupyter-widgets/controls",
          "model_name": "DescriptionStyleModel",
          "model_module_version": "1.5.0",
          "state": {
            "_model_module": "@jupyter-widgets/controls",
            "_model_module_version": "1.5.0",
            "_model_name": "DescriptionStyleModel",
            "_view_count": null,
            "_view_module": "@jupyter-widgets/base",
            "_view_module_version": "1.2.0",
            "_view_name": "StyleView",
            "description_width": ""
          }
        },
        "7b0510ad06594ad09145bc00050b8488": {
          "model_module": "@jupyter-widgets/base",
          "model_name": "LayoutModel",
          "model_module_version": "1.2.0",
          "state": {
            "_model_module": "@jupyter-widgets/base",
            "_model_module_version": "1.2.0",
            "_model_name": "LayoutModel",
            "_view_count": null,
            "_view_module": "@jupyter-widgets/base",
            "_view_module_version": "1.2.0",
            "_view_name": "LayoutView",
            "align_content": null,
            "align_items": null,
            "align_self": null,
            "border": null,
            "bottom": null,
            "display": null,
            "flex": null,
            "flex_flow": null,
            "grid_area": null,
            "grid_auto_columns": null,
            "grid_auto_flow": null,
            "grid_auto_rows": null,
            "grid_column": null,
            "grid_gap": null,
            "grid_row": null,
            "grid_template_areas": null,
            "grid_template_columns": null,
            "grid_template_rows": null,
            "height": null,
            "justify_content": null,
            "justify_items": null,
            "left": null,
            "margin": null,
            "max_height": null,
            "max_width": null,
            "min_height": null,
            "min_width": null,
            "object_fit": null,
            "object_position": null,
            "order": null,
            "overflow": null,
            "overflow_x": null,
            "overflow_y": null,
            "padding": null,
            "right": null,
            "top": null,
            "visibility": null,
            "width": null
          }
        },
        "71c6ecfb98cf4b2ba3932587fb85e7f4": {
          "model_module": "@jupyter-widgets/controls",
          "model_name": "ProgressStyleModel",
          "model_module_version": "1.5.0",
          "state": {
            "_model_module": "@jupyter-widgets/controls",
            "_model_module_version": "1.5.0",
            "_model_name": "ProgressStyleModel",
            "_view_count": null,
            "_view_module": "@jupyter-widgets/base",
            "_view_module_version": "1.2.0",
            "_view_name": "StyleView",
            "bar_color": null,
            "description_width": ""
          }
        },
        "54a3476595a345bf8e28655b62dce415": {
          "model_module": "@jupyter-widgets/base",
          "model_name": "LayoutModel",
          "model_module_version": "1.2.0",
          "state": {
            "_model_module": "@jupyter-widgets/base",
            "_model_module_version": "1.2.0",
            "_model_name": "LayoutModel",
            "_view_count": null,
            "_view_module": "@jupyter-widgets/base",
            "_view_module_version": "1.2.0",
            "_view_name": "LayoutView",
            "align_content": null,
            "align_items": null,
            "align_self": null,
            "border": null,
            "bottom": null,
            "display": null,
            "flex": null,
            "flex_flow": null,
            "grid_area": null,
            "grid_auto_columns": null,
            "grid_auto_flow": null,
            "grid_auto_rows": null,
            "grid_column": null,
            "grid_gap": null,
            "grid_row": null,
            "grid_template_areas": null,
            "grid_template_columns": null,
            "grid_template_rows": null,
            "height": null,
            "justify_content": null,
            "justify_items": null,
            "left": null,
            "margin": null,
            "max_height": null,
            "max_width": null,
            "min_height": null,
            "min_width": null,
            "object_fit": null,
            "object_position": null,
            "order": null,
            "overflow": null,
            "overflow_x": null,
            "overflow_y": null,
            "padding": null,
            "right": null,
            "top": null,
            "visibility": null,
            "width": null
          }
        },
        "ad8ba5e4f2ad4879834c332ebbd13da0": {
          "model_module": "@jupyter-widgets/controls",
          "model_name": "DescriptionStyleModel",
          "model_module_version": "1.5.0",
          "state": {
            "_model_module": "@jupyter-widgets/controls",
            "_model_module_version": "1.5.0",
            "_model_name": "DescriptionStyleModel",
            "_view_count": null,
            "_view_module": "@jupyter-widgets/base",
            "_view_module_version": "1.2.0",
            "_view_name": "StyleView",
            "description_width": ""
          }
        },
        "093aa4f84d064917b005307a450763e0": {
          "model_module": "@jupyter-widgets/controls",
          "model_name": "HBoxModel",
          "model_module_version": "1.5.0",
          "state": {
            "_dom_classes": [],
            "_model_module": "@jupyter-widgets/controls",
            "_model_module_version": "1.5.0",
            "_model_name": "HBoxModel",
            "_view_count": null,
            "_view_module": "@jupyter-widgets/controls",
            "_view_module_version": "1.5.0",
            "_view_name": "HBoxView",
            "box_style": "",
            "children": [
              "IPY_MODEL_dc66c9ec5fd34b3a920c0b68b5184f7b",
              "IPY_MODEL_1458b52a1d664339b056ec73d1353e6b",
              "IPY_MODEL_f701c46e4db842829f05ef8da0b4fb97"
            ],
            "layout": "IPY_MODEL_66beb6d1ba99435a945455f56809736e"
          }
        },
        "dc66c9ec5fd34b3a920c0b68b5184f7b": {
          "model_module": "@jupyter-widgets/controls",
          "model_name": "HTMLModel",
          "model_module_version": "1.5.0",
          "state": {
            "_dom_classes": [],
            "_model_module": "@jupyter-widgets/controls",
            "_model_module_version": "1.5.0",
            "_model_name": "HTMLModel",
            "_view_count": null,
            "_view_module": "@jupyter-widgets/controls",
            "_view_module_version": "1.5.0",
            "_view_name": "HTMLView",
            "description": "",
            "description_tooltip": null,
            "layout": "IPY_MODEL_fb1ad915741c4776b1644e50ae84375c",
            "placeholder": "​",
            "style": "IPY_MODEL_cf499ac99e8f4da4b12eca074b253cca",
            "value": "pytorch_model.bin: 100%"
          }
        },
        "1458b52a1d664339b056ec73d1353e6b": {
          "model_module": "@jupyter-widgets/controls",
          "model_name": "FloatProgressModel",
          "model_module_version": "1.5.0",
          "state": {
            "_dom_classes": [],
            "_model_module": "@jupyter-widgets/controls",
            "_model_module_version": "1.5.0",
            "_model_name": "FloatProgressModel",
            "_view_count": null,
            "_view_module": "@jupyter-widgets/controls",
            "_view_module_version": "1.5.0",
            "_view_name": "ProgressView",
            "bar_style": "success",
            "description": "",
            "description_tooltip": null,
            "layout": "IPY_MODEL_0a89c5a996cb4835ad0f009006f16287",
            "max": 654201076,
            "min": 0,
            "orientation": "horizontal",
            "style": "IPY_MODEL_b376b0f75b86454aa18699d83d9d615e",
            "value": 654201076
          }
        },
        "f701c46e4db842829f05ef8da0b4fb97": {
          "model_module": "@jupyter-widgets/controls",
          "model_name": "HTMLModel",
          "model_module_version": "1.5.0",
          "state": {
            "_dom_classes": [],
            "_model_module": "@jupyter-widgets/controls",
            "_model_module_version": "1.5.0",
            "_model_name": "HTMLModel",
            "_view_count": null,
            "_view_module": "@jupyter-widgets/controls",
            "_view_module_version": "1.5.0",
            "_view_name": "HTMLView",
            "description": "",
            "description_tooltip": null,
            "layout": "IPY_MODEL_82cae00e8ccd47e7b88e28f3474cdfce",
            "placeholder": "​",
            "style": "IPY_MODEL_a5da9ccb913b497d9fca4647bc0c829a",
            "value": " 654M/654M [00:09&lt;00:00, 61.4MB/s]"
          }
        },
        "66beb6d1ba99435a945455f56809736e": {
          "model_module": "@jupyter-widgets/base",
          "model_name": "LayoutModel",
          "model_module_version": "1.2.0",
          "state": {
            "_model_module": "@jupyter-widgets/base",
            "_model_module_version": "1.2.0",
            "_model_name": "LayoutModel",
            "_view_count": null,
            "_view_module": "@jupyter-widgets/base",
            "_view_module_version": "1.2.0",
            "_view_name": "LayoutView",
            "align_content": null,
            "align_items": null,
            "align_self": null,
            "border": null,
            "bottom": null,
            "display": null,
            "flex": null,
            "flex_flow": null,
            "grid_area": null,
            "grid_auto_columns": null,
            "grid_auto_flow": null,
            "grid_auto_rows": null,
            "grid_column": null,
            "grid_gap": null,
            "grid_row": null,
            "grid_template_areas": null,
            "grid_template_columns": null,
            "grid_template_rows": null,
            "height": null,
            "justify_content": null,
            "justify_items": null,
            "left": null,
            "margin": null,
            "max_height": null,
            "max_width": null,
            "min_height": null,
            "min_width": null,
            "object_fit": null,
            "object_position": null,
            "order": null,
            "overflow": null,
            "overflow_x": null,
            "overflow_y": null,
            "padding": null,
            "right": null,
            "top": null,
            "visibility": null,
            "width": null
          }
        },
        "fb1ad915741c4776b1644e50ae84375c": {
          "model_module": "@jupyter-widgets/base",
          "model_name": "LayoutModel",
          "model_module_version": "1.2.0",
          "state": {
            "_model_module": "@jupyter-widgets/base",
            "_model_module_version": "1.2.0",
            "_model_name": "LayoutModel",
            "_view_count": null,
            "_view_module": "@jupyter-widgets/base",
            "_view_module_version": "1.2.0",
            "_view_name": "LayoutView",
            "align_content": null,
            "align_items": null,
            "align_self": null,
            "border": null,
            "bottom": null,
            "display": null,
            "flex": null,
            "flex_flow": null,
            "grid_area": null,
            "grid_auto_columns": null,
            "grid_auto_flow": null,
            "grid_auto_rows": null,
            "grid_column": null,
            "grid_gap": null,
            "grid_row": null,
            "grid_template_areas": null,
            "grid_template_columns": null,
            "grid_template_rows": null,
            "height": null,
            "justify_content": null,
            "justify_items": null,
            "left": null,
            "margin": null,
            "max_height": null,
            "max_width": null,
            "min_height": null,
            "min_width": null,
            "object_fit": null,
            "object_position": null,
            "order": null,
            "overflow": null,
            "overflow_x": null,
            "overflow_y": null,
            "padding": null,
            "right": null,
            "top": null,
            "visibility": null,
            "width": null
          }
        },
        "cf499ac99e8f4da4b12eca074b253cca": {
          "model_module": "@jupyter-widgets/controls",
          "model_name": "DescriptionStyleModel",
          "model_module_version": "1.5.0",
          "state": {
            "_model_module": "@jupyter-widgets/controls",
            "_model_module_version": "1.5.0",
            "_model_name": "DescriptionStyleModel",
            "_view_count": null,
            "_view_module": "@jupyter-widgets/base",
            "_view_module_version": "1.2.0",
            "_view_name": "StyleView",
            "description_width": ""
          }
        },
        "0a89c5a996cb4835ad0f009006f16287": {
          "model_module": "@jupyter-widgets/base",
          "model_name": "LayoutModel",
          "model_module_version": "1.2.0",
          "state": {
            "_model_module": "@jupyter-widgets/base",
            "_model_module_version": "1.2.0",
            "_model_name": "LayoutModel",
            "_view_count": null,
            "_view_module": "@jupyter-widgets/base",
            "_view_module_version": "1.2.0",
            "_view_name": "LayoutView",
            "align_content": null,
            "align_items": null,
            "align_self": null,
            "border": null,
            "bottom": null,
            "display": null,
            "flex": null,
            "flex_flow": null,
            "grid_area": null,
            "grid_auto_columns": null,
            "grid_auto_flow": null,
            "grid_auto_rows": null,
            "grid_column": null,
            "grid_gap": null,
            "grid_row": null,
            "grid_template_areas": null,
            "grid_template_columns": null,
            "grid_template_rows": null,
            "height": null,
            "justify_content": null,
            "justify_items": null,
            "left": null,
            "margin": null,
            "max_height": null,
            "max_width": null,
            "min_height": null,
            "min_width": null,
            "object_fit": null,
            "object_position": null,
            "order": null,
            "overflow": null,
            "overflow_x": null,
            "overflow_y": null,
            "padding": null,
            "right": null,
            "top": null,
            "visibility": null,
            "width": null
          }
        },
        "b376b0f75b86454aa18699d83d9d615e": {
          "model_module": "@jupyter-widgets/controls",
          "model_name": "ProgressStyleModel",
          "model_module_version": "1.5.0",
          "state": {
            "_model_module": "@jupyter-widgets/controls",
            "_model_module_version": "1.5.0",
            "_model_name": "ProgressStyleModel",
            "_view_count": null,
            "_view_module": "@jupyter-widgets/base",
            "_view_module_version": "1.2.0",
            "_view_name": "StyleView",
            "bar_color": null,
            "description_width": ""
          }
        },
        "82cae00e8ccd47e7b88e28f3474cdfce": {
          "model_module": "@jupyter-widgets/base",
          "model_name": "LayoutModel",
          "model_module_version": "1.2.0",
          "state": {
            "_model_module": "@jupyter-widgets/base",
            "_model_module_version": "1.2.0",
            "_model_name": "LayoutModel",
            "_view_count": null,
            "_view_module": "@jupyter-widgets/base",
            "_view_module_version": "1.2.0",
            "_view_name": "LayoutView",
            "align_content": null,
            "align_items": null,
            "align_self": null,
            "border": null,
            "bottom": null,
            "display": null,
            "flex": null,
            "flex_flow": null,
            "grid_area": null,
            "grid_auto_columns": null,
            "grid_auto_flow": null,
            "grid_auto_rows": null,
            "grid_column": null,
            "grid_gap": null,
            "grid_row": null,
            "grid_template_areas": null,
            "grid_template_columns": null,
            "grid_template_rows": null,
            "height": null,
            "justify_content": null,
            "justify_items": null,
            "left": null,
            "margin": null,
            "max_height": null,
            "max_width": null,
            "min_height": null,
            "min_width": null,
            "object_fit": null,
            "object_position": null,
            "order": null,
            "overflow": null,
            "overflow_x": null,
            "overflow_y": null,
            "padding": null,
            "right": null,
            "top": null,
            "visibility": null,
            "width": null
          }
        },
        "a5da9ccb913b497d9fca4647bc0c829a": {
          "model_module": "@jupyter-widgets/controls",
          "model_name": "DescriptionStyleModel",
          "model_module_version": "1.5.0",
          "state": {
            "_model_module": "@jupyter-widgets/controls",
            "_model_module_version": "1.5.0",
            "_model_name": "DescriptionStyleModel",
            "_view_count": null,
            "_view_module": "@jupyter-widgets/base",
            "_view_module_version": "1.2.0",
            "_view_name": "StyleView",
            "description_width": ""
          }
        }
      }
    }
  },
  "nbformat": 4,
  "nbformat_minor": 0
}